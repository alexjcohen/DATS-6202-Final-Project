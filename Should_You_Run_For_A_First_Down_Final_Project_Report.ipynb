{
 "cells": [
  {
   "cell_type": "markdown",
   "metadata": {},
   "source": [
    "<h1 style=\"text-align: center;\">Should You Run for a First Down?</h1>\n",
    "<h3 style=\"text-align: center; font-style:italic;margin-top: 3px\">Analyzing Play-by-Play NFL Data </h3>\n",
    "<h4 style=\"text-align: center;\">Alex Cohen - DATS 6202 </h4>\n",
    "\n",
    "---"
   ]
  },
  {
   "cell_type": "markdown",
   "metadata": {},
   "source": [
    "<img src='Football.jpg' style='border-radius:8px;width:90%;height:400px;' align='center'></img>"
   ]
  },
  {
   "cell_type": "markdown",
   "metadata": {},
   "source": [
    "<h2 style='text-align: center' >Introduction</h2>\n",
    "\n",
    "---\n",
    "In football, teams are allowed to stay on offense by moving a cumulative 10 yards closer to the opponents end zone within a series of four attempts. However, if they do not move the ball 10 yards closer to the opponents end zone within the four attempts, they turn the ball over to the opposing team at the position where the ball currently is. The opposing team then gets to go on offense and try to score points. For this reason, being able to consistently move the ball those ten yards within four plays (called a 'first down') is incredibly important towards winning the game.\n",
    "\n",
    "Football teams generally have two options on offense to try and move the ball those 10 yards for their team:\n",
    "    \n",
    ">throwing the ball through the air (passing play)<br /><br />\n",
    ">handing the ball to a teammate that attempts to then run the ball forward (running play).\n",
    "    \n",
    "\n",
    "\n",
    "Teams are choosing to use more and more passing plays instead of running plays to gain yards and score points over the past few years due to rule changes (among other factors). Yet passing plays are risky because it provides the other team a chance to catch the ball (called an interception), at which point they get to go on offense. There is the chance that someone running the ball drops it (called a fumble), however this is less likely than an interception. Despite this, running has seemingly become an underappreciated part of the game - once which we want to explore further.\n",
    "\n",
    "**The goal of this project will be to figure out the likelihood that a team can use a running play to get the remaining yards required for a first down and remain on offense for any given play**\n",
    "\n",
    "---"
   ]
  },
  {
   "cell_type": "markdown",
   "metadata": {},
   "source": [
    "<h2 style='text-align: center' >Conducting the experiment</h2>\n",
    "\n",
    "___"
   ]
  },
  {
   "cell_type": "markdown",
   "metadata": {},
   "source": [
    "### Part 1: Importing, cleaning, and exploring our data"
   ]
  },
  {
   "cell_type": "code",
   "execution_count": 1,
   "metadata": {},
   "outputs": [],
   "source": [
    "# import our packages\n",
    "import pandas as pd\n",
    "import numpy as np\n",
    "import re\n",
    "import datetime as DT\n",
    "import kaggle"
   ]
  },
  {
   "cell_type": "code",
   "execution_count": 2,
   "metadata": {},
   "outputs": [],
   "source": [
    "# this assumes you have already downloaded the data, since we don't want to upload Kaggle data here\n",
    "data = pd.read_csv('train.csv.zip', low_memory=False)"
   ]
  },
  {
   "cell_type": "code",
   "execution_count": 3,
   "metadata": {},
   "outputs": [
    {
     "data": {
      "text/plain": [
       "(509762, 49)"
      ]
     },
     "execution_count": 3,
     "metadata": {},
     "output_type": "execute_result"
    }
   ],
   "source": [
    "data.shape"
   ]
  },
  {
   "cell_type": "markdown",
   "metadata": {},
   "source": [
    "So we have __509,762__ records to analyze. However, this data includes information about everyone on the field at a given time. Since most of the information will be the same, we want to reduce this down to one record per play"
   ]
  },
  {
   "cell_type": "code",
   "execution_count": 4,
   "metadata": {
    "scrolled": false
   },
   "outputs": [
    {
     "name": "stdout",
     "output_type": "stream",
     "text": [
      "\n",
      "We have 23171 unique plays to analyze. Much better!\n",
      "\n"
     ]
    }
   ],
   "source": [
    "# Because the data had records of all 22 players on the field (11 on offense and 11 on defense),\n",
    "# we need to find the total number of plays\n",
    "print()\n",
    "print('We have {} unique plays to analyze. Much better!'.format(data[data.NflId == data.NflIdRusher]['PlayId'].count()))\n",
    "print()"
   ]
  },
  {
   "cell_type": "code",
   "execution_count": 5,
   "metadata": {},
   "outputs": [
    {
     "data": {
      "text/html": [
       "<div>\n",
       "<style scoped>\n",
       "    .dataframe tbody tr th:only-of-type {\n",
       "        vertical-align: middle;\n",
       "    }\n",
       "\n",
       "    .dataframe tbody tr th {\n",
       "        vertical-align: top;\n",
       "    }\n",
       "\n",
       "    .dataframe thead th {\n",
       "        text-align: right;\n",
       "    }\n",
       "</style>\n",
       "<table border=\"1\" class=\"dataframe\">\n",
       "  <thead>\n",
       "    <tr style=\"text-align: right;\">\n",
       "      <th></th>\n",
       "      <th>GameId</th>\n",
       "      <th>PlayId</th>\n",
       "      <th>Team</th>\n",
       "      <th>X</th>\n",
       "      <th>Y</th>\n",
       "      <th>S</th>\n",
       "      <th>A</th>\n",
       "      <th>Dis</th>\n",
       "      <th>Orientation</th>\n",
       "      <th>Dir</th>\n",
       "      <th>...</th>\n",
       "      <th>Week</th>\n",
       "      <th>Stadium</th>\n",
       "      <th>Location</th>\n",
       "      <th>StadiumType</th>\n",
       "      <th>Turf</th>\n",
       "      <th>GameWeather</th>\n",
       "      <th>Temperature</th>\n",
       "      <th>Humidity</th>\n",
       "      <th>WindSpeed</th>\n",
       "      <th>WindDirection</th>\n",
       "    </tr>\n",
       "  </thead>\n",
       "  <tbody>\n",
       "    <tr>\n",
       "      <th>0</th>\n",
       "      <td>2017090700</td>\n",
       "      <td>20170907000118</td>\n",
       "      <td>home</td>\n",
       "      <td>78.75</td>\n",
       "      <td>30.53</td>\n",
       "      <td>3.63</td>\n",
       "      <td>3.35</td>\n",
       "      <td>0.38</td>\n",
       "      <td>161.98</td>\n",
       "      <td>245.74</td>\n",
       "      <td>...</td>\n",
       "      <td>1</td>\n",
       "      <td>Gillette Stadium</td>\n",
       "      <td>Foxborough, MA</td>\n",
       "      <td>Outdoor</td>\n",
       "      <td>Field Turf</td>\n",
       "      <td>Clear and warm</td>\n",
       "      <td>63.0</td>\n",
       "      <td>77.0</td>\n",
       "      <td>8</td>\n",
       "      <td>SW</td>\n",
       "    </tr>\n",
       "    <tr>\n",
       "      <th>1</th>\n",
       "      <td>2017090700</td>\n",
       "      <td>20170907000139</td>\n",
       "      <td>home</td>\n",
       "      <td>71.07</td>\n",
       "      <td>27.16</td>\n",
       "      <td>3.06</td>\n",
       "      <td>2.41</td>\n",
       "      <td>0.34</td>\n",
       "      <td>210.70</td>\n",
       "      <td>312.20</td>\n",
       "      <td>...</td>\n",
       "      <td>1</td>\n",
       "      <td>Gillette Stadium</td>\n",
       "      <td>Foxborough, MA</td>\n",
       "      <td>Outdoor</td>\n",
       "      <td>Field Turf</td>\n",
       "      <td>Clear and warm</td>\n",
       "      <td>63.0</td>\n",
       "      <td>77.0</td>\n",
       "      <td>8</td>\n",
       "      <td>SW</td>\n",
       "    </tr>\n",
       "    <tr>\n",
       "      <th>2</th>\n",
       "      <td>2017090700</td>\n",
       "      <td>20170907000189</td>\n",
       "      <td>home</td>\n",
       "      <td>48.66</td>\n",
       "      <td>19.11</td>\n",
       "      <td>5.77</td>\n",
       "      <td>2.42</td>\n",
       "      <td>0.60</td>\n",
       "      <td>140.82</td>\n",
       "      <td>221.96</td>\n",
       "      <td>...</td>\n",
       "      <td>1</td>\n",
       "      <td>Gillette Stadium</td>\n",
       "      <td>Foxborough, MA</td>\n",
       "      <td>Outdoor</td>\n",
       "      <td>Field Turf</td>\n",
       "      <td>Clear and warm</td>\n",
       "      <td>63.0</td>\n",
       "      <td>77.0</td>\n",
       "      <td>8</td>\n",
       "      <td>SW</td>\n",
       "    </tr>\n",
       "    <tr>\n",
       "      <th>3</th>\n",
       "      <td>2017090700</td>\n",
       "      <td>20170907000345</td>\n",
       "      <td>home</td>\n",
       "      <td>15.53</td>\n",
       "      <td>25.36</td>\n",
       "      <td>4.45</td>\n",
       "      <td>3.20</td>\n",
       "      <td>0.46</td>\n",
       "      <td>186.22</td>\n",
       "      <td>275.44</td>\n",
       "      <td>...</td>\n",
       "      <td>1</td>\n",
       "      <td>Gillette Stadium</td>\n",
       "      <td>Foxborough, MA</td>\n",
       "      <td>Outdoor</td>\n",
       "      <td>Field Turf</td>\n",
       "      <td>Clear and warm</td>\n",
       "      <td>63.0</td>\n",
       "      <td>77.0</td>\n",
       "      <td>8</td>\n",
       "      <td>SW</td>\n",
       "    </tr>\n",
       "    <tr>\n",
       "      <th>4</th>\n",
       "      <td>2017090700</td>\n",
       "      <td>20170907000395</td>\n",
       "      <td>away</td>\n",
       "      <td>29.99</td>\n",
       "      <td>27.12</td>\n",
       "      <td>3.90</td>\n",
       "      <td>2.53</td>\n",
       "      <td>0.44</td>\n",
       "      <td>34.27</td>\n",
       "      <td>157.92</td>\n",
       "      <td>...</td>\n",
       "      <td>1</td>\n",
       "      <td>Gillette Stadium</td>\n",
       "      <td>Foxborough, MA</td>\n",
       "      <td>Outdoor</td>\n",
       "      <td>Field Turf</td>\n",
       "      <td>Clear and warm</td>\n",
       "      <td>63.0</td>\n",
       "      <td>77.0</td>\n",
       "      <td>8</td>\n",
       "      <td>SW</td>\n",
       "    </tr>\n",
       "  </tbody>\n",
       "</table>\n",
       "<p>5 rows × 49 columns</p>\n",
       "</div>"
      ],
      "text/plain": [
       "       GameId          PlayId  Team      X      Y     S     A   Dis  \\\n",
       "0  2017090700  20170907000118  home  78.75  30.53  3.63  3.35  0.38   \n",
       "1  2017090700  20170907000139  home  71.07  27.16  3.06  2.41  0.34   \n",
       "2  2017090700  20170907000189  home  48.66  19.11  5.77  2.42  0.60   \n",
       "3  2017090700  20170907000345  home  15.53  25.36  4.45  3.20  0.46   \n",
       "4  2017090700  20170907000395  away  29.99  27.12  3.90  2.53  0.44   \n",
       "\n",
       "   Orientation     Dir  ...  Week           Stadium        Location  \\\n",
       "0       161.98  245.74  ...     1  Gillette Stadium  Foxborough, MA   \n",
       "1       210.70  312.20  ...     1  Gillette Stadium  Foxborough, MA   \n",
       "2       140.82  221.96  ...     1  Gillette Stadium  Foxborough, MA   \n",
       "3       186.22  275.44  ...     1  Gillette Stadium  Foxborough, MA   \n",
       "4        34.27  157.92  ...     1  Gillette Stadium  Foxborough, MA   \n",
       "\n",
       "   StadiumType        Turf     GameWeather Temperature Humidity  WindSpeed  \\\n",
       "0      Outdoor  Field Turf  Clear and warm        63.0     77.0          8   \n",
       "1      Outdoor  Field Turf  Clear and warm        63.0     77.0          8   \n",
       "2      Outdoor  Field Turf  Clear and warm        63.0     77.0          8   \n",
       "3      Outdoor  Field Turf  Clear and warm        63.0     77.0          8   \n",
       "4      Outdoor  Field Turf  Clear and warm        63.0     77.0          8   \n",
       "\n",
       "   WindDirection  \n",
       "0             SW  \n",
       "1             SW  \n",
       "2             SW  \n",
       "3             SW  \n",
       "4             SW  \n",
       "\n",
       "[5 rows x 49 columns]"
      ]
     },
     "execution_count": 5,
     "metadata": {},
     "output_type": "execute_result"
    }
   ],
   "source": [
    "# Getting a sample of this reduced data\n",
    "data = data[data.NflId == data.NflIdRusher].reset_index()\n",
    "data = data.drop(columns = 'index')\n",
    "data.head()"
   ]
  },
  {
   "cell_type": "markdown",
   "metadata": {},
   "source": [
    "That's a lot of information. Let's check out the data we have available (from the Kaggle data dictionary), sorting them into a few different categories.\n",
    "\n",
    "<span style='text-decoration:underline'> **Game Related Information** </span>\n",
    "\n",
    "- **GameId** - a unique game identifier\n",
    "- **Season** - year of the season\n",
    "- **HomeTeamAbbr** - home team abbreviation\n",
    "- **VisitorTeamAbbr** - visitor team abbreviation\n",
    "- **Week** - week into the season\n",
    "- **Stadium** - stadium where the game is being played\n",
    "- **Location** - city where the game is being player\n",
    "- **StadiumType** - description of the stadium environment\n",
    "- **Turf** - description of the field surface\n",
    "- **GameWeather** - description of the game weather\n",
    "- **Temperature** - temperature (deg F)\n",
    "- **Humidity** - humidity\n",
    "- **WindSpeed** - wind speed in miles/hour\n",
    "- **WindDirection** - wind direction\n",
    "\n",
    "<span style='text-decoration:underline'> **Play Specific Information** </span>\n",
    "\n",
    "- **PlayId** - a unique play identifier\n",
    "- **Team** - home or away\n",
    "- **YardLine** - the yard line of the line of scrimmage\n",
    "- **Quarter** - game quarter (1-5, 5 == overtime)\n",
    "- **GameClock** - time on the game clock\n",
    "- **PossessionTeam** - team with possession\n",
    "- **Down** - the down (1-4)\n",
    "- **Distance** - yards needed for a first down\n",
    "- **FieldPosition** - which side of the field the play is happening on\n",
    "- **HomeScoreBeforePlay** - home team score before play started\n",
    "- **VisitorScoreBeforePlay** - visitor team score before play started\n",
    "- **OffenseFormation** - offense formation\n",
    "- **OffensePersonnel** - offensive team positional grouping\n",
    "- **DefendersInTheBox** - number of defenders lined up near the line of scrimmage, spanning the width of the offensive line\n",
    "- **DefensePersonnel** - defensive team positional grouping\n",
    "- **PlayDirection** - direction the play is headed\n",
    "- **TimeHandoff** - UTC time of the handoff\n",
    "- **TimeSnap** - UTC time of the snap\n",
    "\n",
    "<span style='text-decoration:underline'> **Player Related Information** </span>\n",
    "\n",
    "- **NflId** - a unique identifier of the player\n",
    "- **DisplayName** - player's name\n",
    "- **JerseyNumber** - jersey number\n",
    "- **NflIdRusher** - the NflId of the rushing player\n",
    "- **X** - player position along the long axis of the field\n",
    "- **Y** - player position along the short axis of the field\n",
    "- **S** - speed in yards/second\n",
    "- **A** - acceleration in yards/second^2\n",
    "- **Dis** - distance traveled from prior time point, in yards\n",
    "- **Orientation** - orientation of player (deg)\n",
    "- **Dir** - angle of player motion (deg)\n",
    "- **PlayerHeight** - player height (ft-in)\n",
    "- **PlayerWeight** - player weight (lbs)\n",
    "- **PlayerBirthDate** - birth date (mm/dd/yyyy)\n",
    "- **PlayerCollegeName** - where the player attended college\n",
    "- **Position** - the player's position (the specific role on the field that they typically play)\n",
    "\n",
    "<span style='text-decoration:underline'> **What we are predicting** </span>\n",
    "- **Distance** - yards needed for a first down\n",
    "- **Yards** - the yardage gained on the play (you are predicting this)\n",
    "\n",
    "Now that we have an idea about the data fields we're working with, let's start by understanding some of the values before doing some feature engineering"
   ]
  },
  {
   "cell_type": "markdown",
   "metadata": {},
   "source": [
    "### Target Variable EDA\n",
    "Let's find out a little more about our target variable - whether or not the team got a first down. This is comprised of two parts:\n",
    "1. The number of yards needed for a first down (which is known before the play)\n",
    "2. The number of yards gained on the play (which is NOT known before the play)"
   ]
  },
  {
   "cell_type": "code",
   "execution_count": 6,
   "metadata": {},
   "outputs": [
    {
     "data": {
      "image/png": "[encoded data removed]",
      "text/plain": [
       "<Figure size 864x504 with 1 Axes>"
      ]
     },
     "metadata": {
      "needs_background": "light"
     },
     "output_type": "display_data"
    }
   ],
   "source": [
    "import matplotlib.pyplot as plt\n",
    "from matplotlib.ticker import PercentFormatter\n",
    "\n",
    "# let's check the distribution of our target variables\n",
    "plt.figure(figsize = (12,7))\n",
    "plt.hist(data.Distance, bins = [i for i in range(40)], density = True, alpha = 0.5)\n",
    "plt.hist(data.Yards, bins = [i for i in range(-10, 40)], density = True, alpha = 0.5)\n",
    "plt.legend(['Distance', 'Yards'])\n",
    "plt.title('Histogram of Yards and Distances', fontsize = 16)\n",
    "plt.xlabel('Yards/Distance')\n",
    "plt.ylabel('Frequency (%)')\n",
    "plt.gca().yaxis.set_major_formatter(PercentFormatter(1))\n",
    "plt.show()"
   ]
  },
  {
   "cell_type": "markdown",
   "metadata": {},
   "source": [
    "As we can see - needing 10 yards is by far the most common value, as we would expect since every first down gives you 10 more yards to gain (ie. 'First and 10'). However it looks like the average play gains substantially fewer than 10 yards - let's see how often a play gains a first down"
   ]
  },
  {
   "cell_type": "code",
   "execution_count": 7,
   "metadata": {
    "scrolled": false
   },
   "outputs": [
    {
     "data": {
      "image/png": "[encoded data removed]",
      "text/plain": [
       "<Figure size 864x504 with 1 Axes>"
      ]
     },
     "metadata": {
      "needs_background": "light"
     },
     "output_type": "display_data"
    }
   ],
   "source": [
    "# let's check our transformed target variable\n",
    "data['remaining_yards'] = data['Distance'] - data['Yards']\n",
    "plt.figure(figsize = (12,7))\n",
    "plt.hist(data['remaining_yards'], density = True, alpha = 0.75, bins = [i for i in range(-50, 40)])\n",
    "plt.axvline(x = 0, color = 'red')\n",
    "plt.title('Distribution of Remaining Yards for a First Down (After Play)', fontsize = 16)\n",
    "plt.xlabel('Remaining Yards')\n",
    "plt.ylabel('Frequency')\n",
    "plt.show()"
   ]
  },
  {
   "cell_type": "code",
   "execution_count": 8,
   "metadata": {},
   "outputs": [
    {
     "name": "stdout",
     "output_type": "stream",
     "text": [
      "\n",
      "The average first down conversion rate is 21.15%\n"
     ]
    }
   ],
   "source": [
    "# let's find the true conversion rate in the data\n",
    "data['first_down'] = np.where(data['remaining_yards'] <= 0, 1, 0)\n",
    "data.drop(columns = ['remaining_yards', 'Yards'], inplace = True)\n",
    "conversion_rate = round(data['first_down'].mean(), 4)\n",
    "print()\n",
    "print('The average first down conversion rate is {}%'.format(conversion_rate*100))"
   ]
  },
  {
   "cell_type": "markdown",
   "metadata": {},
   "source": [
    "So only a little over 20% of plays gain enough yards for a first down - not great, but not too bad given you have up to four tries. This means that teams will gain a first down in 3 tries (to avoid punting on the fourth) ~50% of the time:\n",
    "\n",
    "\\\\[P(fail_{all\\ three \\ attempts}) = (1-0.2115)^3 = (.7885)^3 = 49.02\\%\\\\]\n",
    "\n",
    "However, we know that not all plays are created equal - so lets take a look at some of the features we can use to help figure out when a first down is more likely\n",
    "\n",
    "___"
   ]
  },
  {
   "cell_type": "markdown",
   "metadata": {},
   "source": [
    "### EDA and Feature Engineering\n",
    "\n",
    "#### Feature Engineering Part 1: Game Information"
   ]
  },
  {
   "cell_type": "markdown",
   "metadata": {},
   "source": [
    "First, let's look at all the variables specific to an individual game"
   ]
  },
  {
   "cell_type": "code",
   "execution_count": 9,
   "metadata": {},
   "outputs": [],
   "source": [
    "game_vars = ['GameId', 'Season', 'HomeTeamAbbr', 'VisitorTeamAbbr', 'Week', 'Stadium', \n",
    "             'Location', 'StadiumType', 'Turf', 'GameWeather', 'Temperature', 'Humidity', \n",
    "             'WindSpeed', 'WindDirection']"
   ]
  },
  {
   "cell_type": "markdown",
   "metadata": {},
   "source": [
    "One thing we can immediately do is look at the home team, stadium, and location fields to see if there are any variables we can eliminate (as the same home team likely means the same stadium)"
   ]
  },
  {
   "cell_type": "code",
   "execution_count": 10,
   "metadata": {
    "scrolled": false
   },
   "outputs": [
    {
     "data": {
      "text/plain": [
       "HomeTeamAbbr  Stadium                            \n",
       "ARI           State Farm Stadium                     401\n",
       "              University of Phoenix Stadium          346\n",
       "ATL           Mercedes-Benz Dome                      39\n",
       "              Mercedes-Benz Stadium                  654\n",
       "BAL           M & T Bank Stadium                      49\n",
       "              M&T Bank Stadium                       500\n",
       "              M&T Stadium                            228\n",
       "BUF           New Era Field                          782\n",
       "CAR           Bank of America Stadium                638\n",
       "CHI           Soldier Field                          697\n",
       "CIN           Paul Brown Stadium                     702\n",
       "              Paul Brown Stdium                       52\n",
       "CLE           First Energy Stadium                    77\n",
       "              FirstEnergy                            193\n",
       "              FirstEnergy Stadium                    351\n",
       "              FirstEnergyStadium                      53\n",
       "              Twickenham Stadium                      50\n",
       "DAL           AT&T Stadium                           725\n",
       "DEN           Broncos Stadium At Mile High            45\n",
       "              Broncos Stadium at Mile High           316\n",
       "              Sports Authority Field at Mile High    388\n",
       "DET           Ford Field                             693\n",
       "GB            Lambeau Field                          650\n",
       "              Lambeau field                           46\n",
       "HOU           NRG                                    178\n",
       "              NRG Stadium                            544\n",
       "IND           Lucas Oil Stadium                      752\n",
       "JAX           EverBank Field                         193\n",
       "              Everbank Field                         156\n",
       "              TIAA Bank Field                        293\n",
       "              Wembley Stadium                         84\n",
       "KC            Arrowhead Stadium                      697\n",
       "LA            Los Angeles Memorial Coliesum           46\n",
       "              Los Angeles Memorial Coliseum          621\n",
       "              Twickenham                              44\n",
       "LAC           StubHub Center                         665\n",
       "              Wembley Stadium                         41\n",
       "MIA           Hard Rock Stadium                      662\n",
       "              Wembley Stadium                         38\n",
       "MIN           U.S. Bank Stadium                      735\n",
       "NE            Gillette Stadium                       784\n",
       "NO            Mercedes-Benz Superdome                707\n",
       "NYG           MetLife Stadium                        788\n",
       "NYJ           MetLife                                531\n",
       "              MetLife Stadium                        169\n",
       "              Metlife Stadium                         38\n",
       "OAK           Estadio Azteca                          41\n",
       "              Oakland Alameda-County Coliseum         39\n",
       "              Oakland-Alameda County Coliseum        623\n",
       "              Wembley Stadium                         45\n",
       "PHI           Lincoln Financial Field                658\n",
       "PIT           Heinz Field                            675\n",
       "SEA           CenturyField                            57\n",
       "              CenturyLink                             51\n",
       "              CenturyLink Field                      663\n",
       "SF            Levis Stadium                          791\n",
       "TB            Raymond James Stadium                  668\n",
       "TEN           Nissan Stadium                         721\n",
       "WAS           FedExField                             698\n",
       "Name: Stadium, dtype: int64"
      ]
     },
     "execution_count": 10,
     "metadata": {},
     "output_type": "execute_result"
    }
   ],
   "source": [
    "data.groupby(['HomeTeamAbbr', 'Stadium'])['Stadium'].count()"
   ]
  },
  {
   "cell_type": "code",
   "execution_count": 11,
   "metadata": {},
   "outputs": [
    {
     "data": {
      "text/plain": [
       "HomeTeamAbbr  Location                 \n",
       "ARI           Glendale, AZ                 747\n",
       "ATL           Atlanta, GA                  693\n",
       "BAL           Baltimore, Maryland           49\n",
       "              Baltimore, Md.               728\n",
       "BUF           Orchard Park NY              704\n",
       "              Orchard Park, NY              78\n",
       "CAR           Charlotte, NC                236\n",
       "              Charlotte, North Carolina    402\n",
       "CHI           Chicago, IL                  659\n",
       "              Chicago. IL                   38\n",
       "CIN           Cincinnati, OH                96\n",
       "              Cincinnati, Ohio             658\n",
       "CLE           Cleveland                     47\n",
       "              Cleveland Ohio                53\n",
       "              Cleveland, OH                 38\n",
       "              Cleveland, Ohio              378\n",
       "              Cleveland,Ohio               158\n",
       "              London, England               50\n",
       "DAL           Arlington, TX                 32\n",
       "              Arlington, Texas             693\n",
       "DEN           Denver, CO                   749\n",
       "DET           Detroit                      485\n",
       "              Detroit, MI                  208\n",
       "GB            Green Bay, WI                696\n",
       "HOU           Houston, TX                  443\n",
       "              Houston, Texas               279\n",
       "IND           Indianapolis, Ind.           752\n",
       "JAX           Jacksonville Florida          44\n",
       "              Jacksonville, FL             516\n",
       "              Jacksonville, Fl              41\n",
       "                                          ... \n",
       "LA            Los Angeles, CA               44\n",
       "              Los Angeles, Calif.          623\n",
       "LAC           Carson, CA                   665\n",
       "              London, England               41\n",
       "MIA           London, England               38\n",
       "              Miami Gardens, FLA            49\n",
       "              Miami Gardens, Fla.          613\n",
       "MIN           Minneapolis, MN              735\n",
       "NE            Foxborough, MA               692\n",
       "              Foxborough, Ma                92\n",
       "NO            New Orleans                   52\n",
       "              New Orleans, LA              505\n",
       "              New Orleans, La.             150\n",
       "NYG           East Rutherford, NJ          788\n",
       "NYJ           E. Rutherford, NJ             66\n",
       "              East Rutherford, N.J.         92\n",
       "              East Rutherford, NJ          580\n",
       "OAK           London, England               45\n",
       "              Mexico City                   41\n",
       "              Oakland, CA                  662\n",
       "PHI           Philadelphia, PA              60\n",
       "              Philadelphia, Pa.            598\n",
       "PIT           Pittsburgh                   599\n",
       "              Pittsburgh, PA                76\n",
       "SEA           Seattle                      106\n",
       "              Seattle, WA                  665\n",
       "SF            Santa Clara, CA              791\n",
       "TB            Tampa, FL                    668\n",
       "TEN           Nashville, TN                721\n",
       "WAS           Landover, MD                 698\n",
       "Name: Location, Length: 65, dtype: int64"
      ]
     },
     "execution_count": 11,
     "metadata": {},
     "output_type": "execute_result"
    }
   ],
   "source": [
    "data.groupby(['HomeTeamAbbr', 'Location'])['Location'].count()"
   ]
  },
  {
   "cell_type": "markdown",
   "metadata": {},
   "source": [
    "Since most of the interesting aspects of stadiums can be captured by a combination of the home team as well as the temperature/weather and field conditions, we will drop the location variable to avoid creating too many one-hot encoded features. \n",
    "\n",
    "The one thing that will be different is if the game is at a third party site (where neither team is really the 'home' team - which is most common when the NFL plays internationally. There are two main locations, England and Mexico City, where these games are played. We'll create an 'International' indicator variable to capture this information."
   ]
  },
  {
   "cell_type": "code",
   "execution_count": 12,
   "metadata": {},
   "outputs": [],
   "source": [
    "# create an international location flag and then drop location and stadium variables\n",
    "data['International'] = np.where((data.Location.str.contains('London'))|(data.Location.str.contains('Mexico City')),\n",
    "                                 1,\n",
    "                                 0)\n",
    "data.drop(columns = ['Location', 'Stadium'], inplace = True)\n",
    "game_vars.remove('Location')\n",
    "game_vars.remove('Stadium')"
   ]
  },
  {
   "cell_type": "markdown",
   "metadata": {},
   "source": [
    "Since there are a lot of different field types and weather values (and some that seem to overlap between the two), we'll need to clean these fields as well"
   ]
  },
  {
   "cell_type": "code",
   "execution_count": 13,
   "metadata": {},
   "outputs": [],
   "source": [
    "stadium_map = {'Outdoors':'Outdoor',\n",
    "                'Indoors':'Indoor',\n",
    "                'Retractable Roof': 'Indoor',\n",
    "                'Open':'Outdoor',\n",
    "                'Retr. Roof-Closed':'Indoor',\n",
    "                'Retr. Roof - Closed': 'Indoor',\n",
    "                'Outddors':'Outdoor',\n",
    "                'Dome':'Indoor',\n",
    "                'Domed, closed':'Indoor',\n",
    "                'Indoor, Roof Closed': 'Indoor',\n",
    "                'Retr. Roof Closed': 'Indoor',\n",
    "                'Outdoor Retr Roof-Open': 'Open Dome',\n",
    "                'Closed Dome': 'Indoor',\n",
    "                'Oudoor':'Outdoor',\n",
    "                'Ourdoor':'Outdoor',\n",
    "                'Dome, closed': 'Indoor',\n",
    "                'Retr. Roof-Open':'Open Dome',\n",
    "                'Heinz Field':'Outdoor', # Heinz Field is an open field\n",
    "                'Outdor':'Outdoor',\n",
    "                'Retr. Roof - Open': 'Open Dome',\n",
    "                'Domed, Open': 'Open Dome',\n",
    "                'Domed, open':'Open Dome',\n",
    "                'Cloudy':'Outdoor',\n",
    "                'Bowl':'Indoor', \n",
    "                'Outside':'Outdoor',\n",
    "                'Domed':'Indoor'}"
   ]
  },
  {
   "cell_type": "code",
   "execution_count": 14,
   "metadata": {},
   "outputs": [],
   "source": [
    "weather_map = {'Clear and Warm':'Clear',\n",
    "               'Sun & clouds':'Cloudy',\n",
    "               'Sunny':'Clear',\n",
    "               'Controlled Climate':'Controlled',\n",
    "               'Mostly Sunny':'Clear',\n",
    "               'Indoor':'Controlled',\n",
    "               'Mostly Cloudy':'Cloudy',\n",
    "               'Mostly Coudy':'Cloudy',\n",
    "               'Partly sunny':'Clear',\n",
    "               'Partly Cloudy':'Cloudy',\n",
    "               'Cloudy':'Cloudy',\n",
    "               'Sunny, highs to upper 80s':'Clear',\n",
    "               'Indoors':'Controlled',\n",
    "               'Light Rain':'Rainy',\n",
    "               'Showers':'Rainy',\n",
    "               'Partly cloudy':'Cloudy',\n",
    "               'Partly Sunny':'Clear',\n",
    "               '30% Chance of Rain':'Rainy',\n",
    "               'Cloudy with periods of rain, thunder possible. Winds shifting to WNW, 10-20 mph.':'Rainy',\n",
    "               'Rain':'Rainy',\n",
    "               'Cloudy, fog started developing in 2nd quarter':'Cloudy',\n",
    "               'Coudy':'Cloudy',\n",
    "               'Rain likely, temps in low 40s.':'Rainy',\n",
    "               'Cold':'Cloudy',\n",
    "               'N/A (Indoors)':'Controlled',\n",
    "               'Clear skies':'Clear',\n",
    "               'cloudy':'Cloudy',\n",
    "               'Fair':'Clear',\n",
    "               'Mostly cloudy':'Cloudy',\n",
    "               'Cloudy, chance of rain':'Cloudy',\n",
    "               'Heavy lake effect snow':'Snow',\n",
    "               'Partly Cloudy':'Cloudy',\n",
    "               'Cloudy, light snow accumulating 1-3\"':'Snow',\n",
    "               'Cloudy and cold':'Cloudy',\n",
    "               'Snow':'Snow',\n",
    "               'Hazy':'Cloudy',\n",
    "               'Scattered Showers':'Rainy',\n",
    "               'Cloudy and Cool':'Cloudy',\n",
    "               'N/A Indoor':'Controlled',\n",
    "               'Rain Chance 40%':'Rainy',\n",
    "               'Clear and Sunny':'Clear',\n",
    "               'Mostly Sunny':'Clear',\n",
    "               'Sunny and warm':'Clear',\n",
    "               'Partly clear':'Clear',\n",
    "               'Cloudy, 50% change of rain':'Cloudy',\n",
    "               'Clear and Sunny':'Clear',\n",
    "               'Sunny, Windy':'Clear',\n",
    "               'Clear and Cool':'Clear',\n",
    "               'Sunny and clear':'Clear',\n",
    "               'Mostly sunny skies':'Clear',\n",
    "               'Partly Clouidy':'Cloudy',\n",
    "               'Clear Skies':'Clear',\n",
    "               'Sunny Skies':'Clear',\n",
    "               'Overcast':'Cloudy',\n",
    "               'T: 51; H: 55; W: NW 10 mph':'Clear',\n",
    "               'Cloudy, Rain':'Rainy',\n",
    "               'Rain shower':'Rainy',\n",
    "               'Clear and cold':'Clear',\n",
    "               'Rainy':'Rainy',\n",
    "               'Sunny and cold':'Clear',\n",
    "               'Mostly sunny':'Clear',\n",
    "               'Clear and sunny':'Clear',\n",
    "               'Clear and warm':'Clear',\n",
    "               'Party Cloudy':'Cloudy',\n",
    "               'Mostly Sunny Skies':'Clear'}"
   ]
  },
  {
   "cell_type": "code",
   "execution_count": 15,
   "metadata": {},
   "outputs": [],
   "source": [
    "# applying our weather and stadium maps\n",
    "data.StadiumType.replace(stadium_map, inplace = True)\n",
    "data.GameWeather.replace(weather_map, inplace = True)"
   ]
  },
  {
   "cell_type": "markdown",
   "metadata": {},
   "source": [
    "Additionally, there are a few games where the stadium type appears to be blank. Let's fill those in with the correct values (found through research)"
   ]
  },
  {
   "cell_type": "code",
   "execution_count": 16,
   "metadata": {},
   "outputs": [],
   "source": [
    "data.loc[(data.HomeTeamAbbr == 'JAX') & (data.StadiumType.isna()),'StadiumType'] = 'Outdoor'\n",
    "data.loc[(data.HomeTeamAbbr == 'LAC') & (data.StadiumType.isna()),'StadiumType'] = 'Outdoor'\n",
    "data.loc[(data.HomeTeamAbbr == 'NYG') & (data.StadiumType.isna()),'StadiumType'] = 'Outdoor'"
   ]
  },
  {
   "cell_type": "markdown",
   "metadata": {},
   "source": [
    "The Game Weather and Temperature data is blank for a lot of games played indoor - Game Weather will be set to 'Indoor' if the stadium is indoor, and the Temperature will be drawn from a random uniform distribution between 68 and 72 degrees (the best data I could find, but this could be improved in future work"
   ]
  },
  {
   "cell_type": "code",
   "execution_count": 17,
   "metadata": {},
   "outputs": [
    {
     "data": {
      "text/plain": [
       "Cloudy        9247\n",
       "Clear         8538\n",
       "Controlled    1795\n",
       "Rainy         1393\n",
       "Snow           214\n",
       "Name: GameWeather, dtype: int64"
      ]
     },
     "execution_count": 17,
     "metadata": {},
     "output_type": "execute_result"
    }
   ],
   "source": [
    "data.GameWeather.value_counts()"
   ]
  },
  {
   "cell_type": "code",
   "execution_count": 18,
   "metadata": {},
   "outputs": [],
   "source": [
    "data.loc[(data.StadiumType == 'Indoor') & (data.GameWeather.isna()), 'GameWeather'] = 'Controlled'\n",
    "data.loc[(data.StadiumType == 'Indoor') & (data.Temperature.isna()), 'Temperature'] = round(np.random.uniform(68,72),0)\n",
    "data.loc[data.GameWeather.isna(), 'GameWeather'] = 'Unknown'"
   ]
  },
  {
   "cell_type": "markdown",
   "metadata": {},
   "source": [
    "Additionally, since there are a lot of kinds of turf, we want to simplify these down"
   ]
  },
  {
   "cell_type": "code",
   "execution_count": 19,
   "metadata": {},
   "outputs": [],
   "source": [
    "# fix the field turf values\n",
    "data['natural_field'] = np.where(data.Turf.str.lower().str.contains('|'.join(['grass', 'natural'])),\n",
    "         1,\n",
    "         0)\n",
    "data.drop(columns = 'Turf', inplace=True)\n",
    "game_vars.remove('Turf')"
   ]
  },
  {
   "cell_type": "code",
   "execution_count": 20,
   "metadata": {},
   "outputs": [],
   "source": [
    "# Because all the stadiums are built facing different directions and teams change the direction they face every quarter,\n",
    "# we will drop wind direction as a variable\n",
    "\n",
    "data.drop(columns = 'WindDirection', inplace = True)\n",
    "game_vars.remove('WindDirection')"
   ]
  },
  {
   "cell_type": "code",
   "execution_count": 21,
   "metadata": {},
   "outputs": [],
   "source": [
    "# let's convert all of the windspeed values to integers by removing all of the non-numeric characters\n",
    "data.WindSpeed = data.WindSpeed.apply(lambda x: (re.sub('[^0-9]', '', str(x))[:2])).replace('', 0).astype(int)"
   ]
  },
  {
   "cell_type": "markdown",
   "metadata": {},
   "source": [
    "Finally, now that we have all of the game variables cleaned up, lets drop the gameID (since it doesn't really mean anything) and check out what our game variables look like"
   ]
  },
  {
   "cell_type": "code",
   "execution_count": 22,
   "metadata": {
    "scrolled": true
   },
   "outputs": [
    {
     "data": {
      "text/html": [
       "<div>\n",
       "<style scoped>\n",
       "    .dataframe tbody tr th:only-of-type {\n",
       "        vertical-align: middle;\n",
       "    }\n",
       "\n",
       "    .dataframe tbody tr th {\n",
       "        vertical-align: top;\n",
       "    }\n",
       "\n",
       "    .dataframe thead th {\n",
       "        text-align: right;\n",
       "    }\n",
       "</style>\n",
       "<table border=\"1\" class=\"dataframe\">\n",
       "  <thead>\n",
       "    <tr style=\"text-align: right;\">\n",
       "      <th></th>\n",
       "      <th>Season</th>\n",
       "      <th>HomeTeamAbbr</th>\n",
       "      <th>VisitorTeamAbbr</th>\n",
       "      <th>Week</th>\n",
       "      <th>StadiumType</th>\n",
       "      <th>GameWeather</th>\n",
       "      <th>Temperature</th>\n",
       "      <th>Humidity</th>\n",
       "      <th>WindSpeed</th>\n",
       "    </tr>\n",
       "  </thead>\n",
       "  <tbody>\n",
       "    <tr>\n",
       "      <th>0</th>\n",
       "      <td>2017</td>\n",
       "      <td>NE</td>\n",
       "      <td>KC</td>\n",
       "      <td>1</td>\n",
       "      <td>Outdoor</td>\n",
       "      <td>Clear</td>\n",
       "      <td>63.0</td>\n",
       "      <td>77.0</td>\n",
       "      <td>8</td>\n",
       "    </tr>\n",
       "    <tr>\n",
       "      <th>1</th>\n",
       "      <td>2017</td>\n",
       "      <td>NE</td>\n",
       "      <td>KC</td>\n",
       "      <td>1</td>\n",
       "      <td>Outdoor</td>\n",
       "      <td>Clear</td>\n",
       "      <td>63.0</td>\n",
       "      <td>77.0</td>\n",
       "      <td>8</td>\n",
       "    </tr>\n",
       "    <tr>\n",
       "      <th>2</th>\n",
       "      <td>2017</td>\n",
       "      <td>NE</td>\n",
       "      <td>KC</td>\n",
       "      <td>1</td>\n",
       "      <td>Outdoor</td>\n",
       "      <td>Clear</td>\n",
       "      <td>63.0</td>\n",
       "      <td>77.0</td>\n",
       "      <td>8</td>\n",
       "    </tr>\n",
       "    <tr>\n",
       "      <th>3</th>\n",
       "      <td>2017</td>\n",
       "      <td>NE</td>\n",
       "      <td>KC</td>\n",
       "      <td>1</td>\n",
       "      <td>Outdoor</td>\n",
       "      <td>Clear</td>\n",
       "      <td>63.0</td>\n",
       "      <td>77.0</td>\n",
       "      <td>8</td>\n",
       "    </tr>\n",
       "    <tr>\n",
       "      <th>4</th>\n",
       "      <td>2017</td>\n",
       "      <td>NE</td>\n",
       "      <td>KC</td>\n",
       "      <td>1</td>\n",
       "      <td>Outdoor</td>\n",
       "      <td>Clear</td>\n",
       "      <td>63.0</td>\n",
       "      <td>77.0</td>\n",
       "      <td>8</td>\n",
       "    </tr>\n",
       "  </tbody>\n",
       "</table>\n",
       "</div>"
      ],
      "text/plain": [
       "   Season HomeTeamAbbr VisitorTeamAbbr  Week StadiumType GameWeather  \\\n",
       "0    2017           NE              KC     1     Outdoor       Clear   \n",
       "1    2017           NE              KC     1     Outdoor       Clear   \n",
       "2    2017           NE              KC     1     Outdoor       Clear   \n",
       "3    2017           NE              KC     1     Outdoor       Clear   \n",
       "4    2017           NE              KC     1     Outdoor       Clear   \n",
       "\n",
       "   Temperature  Humidity  WindSpeed  \n",
       "0         63.0      77.0          8  \n",
       "1         63.0      77.0          8  \n",
       "2         63.0      77.0          8  \n",
       "3         63.0      77.0          8  \n",
       "4         63.0      77.0          8  "
      ]
     },
     "execution_count": 22,
     "metadata": {},
     "output_type": "execute_result"
    }
   ],
   "source": [
    "data.drop(columns = 'GameId', inplace = True)\n",
    "game_vars.remove('GameId')\n",
    "data[game_vars].head()"
   ]
  },
  {
   "cell_type": "markdown",
   "metadata": {},
   "source": [
    "####  Feature Engineering Part 2: Play Information\n",
    "Let's look at the variables related to the specific play "
   ]
  },
  {
   "cell_type": "code",
   "execution_count": 23,
   "metadata": {},
   "outputs": [],
   "source": [
    "play_vars = ['PlayId', 'Team', 'YardLine', 'Quarter', 'GameClock', 'PossessionTeam', 'Down', 'Distance', 'FieldPosition',\n",
    "             'HomeScoreBeforePlay', 'VisitorScoreBeforePlay', 'OffenseFormation', 'OffensePersonnel', 'DefendersInTheBox',\n",
    "             'DefensePersonnel', 'PlayDirection', 'TimeHandoff','TimeSnap']"
   ]
  },
  {
   "cell_type": "code",
   "execution_count": 24,
   "metadata": {},
   "outputs": [],
   "source": [
    "# first things first, we can drop the Team variable, since we know the home/away team from the Game Information\n",
    "data.drop(columns = 'Team', inplace = True)\n",
    "play_vars.remove('Team')"
   ]
  },
  {
   "cell_type": "code",
   "execution_count": 25,
   "metadata": {},
   "outputs": [],
   "source": [
    "# we can convert the Yardline and FieldPosition variables into a 'yards to the endzone' variable to tell how close \n",
    "# the team is to scoring\n",
    "\n",
    "data['yards_to_endzone'] = np.where(data.PossessionTeam == data.FieldPosition, \n",
    "                                    data.YardLine + 50, \n",
    "                                    data.YardLine)\n",
    "data.drop(columns = ['FieldPosition', 'YardLine'], inplace = True)\n",
    "play_vars.remove('FieldPosition')\n",
    "play_vars.remove('YardLine')"
   ]
  },
  {
   "cell_type": "code",
   "execution_count": 26,
   "metadata": {},
   "outputs": [],
   "source": [
    "# create a new variable denoting how long it takes from the time the ball is snapped to when it is handed to the runner\n",
    "# (if it's longer - it might give the defense more time to get to the runner and decrease the yards gained)\n",
    "\n",
    "data.TimeHandoff = data.TimeHandoff.apply(lambda x: re.sub('.000', '', x))\n",
    "data.TimeHandoff = data.TimeHandoff.apply(lambda x: DT.datetime.strptime(x, \"%Y-%m-%dT%H:%M:%SZ\"))\n",
    "\n",
    "data.TimeSnap = data.TimeSnap.apply(lambda x: re.sub('.000', '', x))\n",
    "data.TimeSnap = data.TimeSnap.apply(lambda x: DT.datetime.strptime(x, \"%Y-%m-%dT%H:%M:%SZ\"))\n",
    "\n",
    "def time_diff(x):\n",
    "    return (x['TimeHandoff']-x['TimeSnap']).seconds\n",
    "\n",
    "data['seconds_to_handoff'] = data.apply(time_diff, axis = 1)\n",
    "play_vars.append('seconds_to_handoff')"
   ]
  },
  {
   "cell_type": "code",
   "execution_count": 27,
   "metadata": {},
   "outputs": [],
   "source": [
    "# create an indicator variable for whether or not it is the home team that has possession\n",
    "data['home_team_posession'] = np.where(data.HomeTeamAbbr == data.PossessionTeam, \n",
    "                                       1,\n",
    "                                       0)\n",
    "data.drop(columns = 'PossessionTeam', inplace=True)\n",
    "play_vars.remove('PossessionTeam')"
   ]
  },
  {
   "cell_type": "code",
   "execution_count": 28,
   "metadata": {},
   "outputs": [
    {
     "data": {
      "text/html": [
       "<div>\n",
       "<style scoped>\n",
       "    .dataframe tbody tr th:only-of-type {\n",
       "        vertical-align: middle;\n",
       "    }\n",
       "\n",
       "    .dataframe tbody tr th {\n",
       "        vertical-align: top;\n",
       "    }\n",
       "\n",
       "    .dataframe thead th {\n",
       "        text-align: right;\n",
       "    }\n",
       "</style>\n",
       "<table border=\"1\" class=\"dataframe\">\n",
       "  <thead>\n",
       "    <tr style=\"text-align: right;\">\n",
       "      <th></th>\n",
       "      <th>PlayId</th>\n",
       "      <th>Quarter</th>\n",
       "      <th>GameClock</th>\n",
       "      <th>Down</th>\n",
       "      <th>Distance</th>\n",
       "      <th>HomeScoreBeforePlay</th>\n",
       "      <th>VisitorScoreBeforePlay</th>\n",
       "      <th>OffenseFormation</th>\n",
       "      <th>OffensePersonnel</th>\n",
       "      <th>DefendersInTheBox</th>\n",
       "      <th>DefensePersonnel</th>\n",
       "      <th>PlayDirection</th>\n",
       "      <th>TimeHandoff</th>\n",
       "      <th>TimeSnap</th>\n",
       "      <th>seconds_to_handoff</th>\n",
       "    </tr>\n",
       "  </thead>\n",
       "  <tbody>\n",
       "    <tr>\n",
       "      <th>0</th>\n",
       "      <td>20170907000118</td>\n",
       "      <td>1</td>\n",
       "      <td>14:14:00</td>\n",
       "      <td>3</td>\n",
       "      <td>2</td>\n",
       "      <td>0</td>\n",
       "      <td>0</td>\n",
       "      <td>SHOTGUN</td>\n",
       "      <td>1 RB, 1 TE, 3 WR</td>\n",
       "      <td>6.0</td>\n",
       "      <td>2 DL, 3 LB, 6 DB</td>\n",
       "      <td>left</td>\n",
       "      <td>2017-09-08 00:44:06</td>\n",
       "      <td>2017-09-08 00:44:05</td>\n",
       "      <td>1</td>\n",
       "    </tr>\n",
       "    <tr>\n",
       "      <th>1</th>\n",
       "      <td>20170907000139</td>\n",
       "      <td>1</td>\n",
       "      <td>13:52:00</td>\n",
       "      <td>1</td>\n",
       "      <td>10</td>\n",
       "      <td>0</td>\n",
       "      <td>0</td>\n",
       "      <td>SHOTGUN</td>\n",
       "      <td>1 RB, 1 TE, 3 WR</td>\n",
       "      <td>6.0</td>\n",
       "      <td>2 DL, 3 LB, 6 DB</td>\n",
       "      <td>left</td>\n",
       "      <td>2017-09-08 00:44:27</td>\n",
       "      <td>2017-09-08 00:44:26</td>\n",
       "      <td>1</td>\n",
       "    </tr>\n",
       "    <tr>\n",
       "      <th>2</th>\n",
       "      <td>20170907000189</td>\n",
       "      <td>1</td>\n",
       "      <td>13:02:00</td>\n",
       "      <td>1</td>\n",
       "      <td>10</td>\n",
       "      <td>0</td>\n",
       "      <td>0</td>\n",
       "      <td>SINGLEBACK</td>\n",
       "      <td>1 RB, 1 TE, 3 WR</td>\n",
       "      <td>7.0</td>\n",
       "      <td>2 DL, 3 LB, 6 DB</td>\n",
       "      <td>left</td>\n",
       "      <td>2017-09-08 00:45:17</td>\n",
       "      <td>2017-09-08 00:45:15</td>\n",
       "      <td>2</td>\n",
       "    </tr>\n",
       "    <tr>\n",
       "      <th>3</th>\n",
       "      <td>20170907000345</td>\n",
       "      <td>1</td>\n",
       "      <td>12:12:00</td>\n",
       "      <td>2</td>\n",
       "      <td>2</td>\n",
       "      <td>0</td>\n",
       "      <td>0</td>\n",
       "      <td>JUMBO</td>\n",
       "      <td>6 OL, 2 RB, 2 TE, 0 WR</td>\n",
       "      <td>9.0</td>\n",
       "      <td>4 DL, 4 LB, 3 DB</td>\n",
       "      <td>left</td>\n",
       "      <td>2017-09-08 00:48:41</td>\n",
       "      <td>2017-09-08 00:48:39</td>\n",
       "      <td>2</td>\n",
       "    </tr>\n",
       "    <tr>\n",
       "      <th>4</th>\n",
       "      <td>20170907000395</td>\n",
       "      <td>1</td>\n",
       "      <td>12:08:00</td>\n",
       "      <td>1</td>\n",
       "      <td>10</td>\n",
       "      <td>7</td>\n",
       "      <td>0</td>\n",
       "      <td>SHOTGUN</td>\n",
       "      <td>1 RB, 3 TE, 1 WR</td>\n",
       "      <td>7.0</td>\n",
       "      <td>3 DL, 2 LB, 6 DB</td>\n",
       "      <td>right</td>\n",
       "      <td>2017-09-08 00:53:14</td>\n",
       "      <td>2017-09-08 00:53:13</td>\n",
       "      <td>1</td>\n",
       "    </tr>\n",
       "  </tbody>\n",
       "</table>\n",
       "</div>"
      ],
      "text/plain": [
       "           PlayId  Quarter GameClock  Down  Distance  HomeScoreBeforePlay  \\\n",
       "0  20170907000118        1  14:14:00     3         2                    0   \n",
       "1  20170907000139        1  13:52:00     1        10                    0   \n",
       "2  20170907000189        1  13:02:00     1        10                    0   \n",
       "3  20170907000345        1  12:12:00     2         2                    0   \n",
       "4  20170907000395        1  12:08:00     1        10                    7   \n",
       "\n",
       "   VisitorScoreBeforePlay OffenseFormation        OffensePersonnel  \\\n",
       "0                       0          SHOTGUN        1 RB, 1 TE, 3 WR   \n",
       "1                       0          SHOTGUN        1 RB, 1 TE, 3 WR   \n",
       "2                       0       SINGLEBACK        1 RB, 1 TE, 3 WR   \n",
       "3                       0            JUMBO  6 OL, 2 RB, 2 TE, 0 WR   \n",
       "4                       0          SHOTGUN        1 RB, 3 TE, 1 WR   \n",
       "\n",
       "   DefendersInTheBox  DefensePersonnel PlayDirection         TimeHandoff  \\\n",
       "0                6.0  2 DL, 3 LB, 6 DB          left 2017-09-08 00:44:06   \n",
       "1                6.0  2 DL, 3 LB, 6 DB          left 2017-09-08 00:44:27   \n",
       "2                7.0  2 DL, 3 LB, 6 DB          left 2017-09-08 00:45:17   \n",
       "3                9.0  4 DL, 4 LB, 3 DB          left 2017-09-08 00:48:41   \n",
       "4                7.0  3 DL, 2 LB, 6 DB         right 2017-09-08 00:53:14   \n",
       "\n",
       "             TimeSnap  seconds_to_handoff  \n",
       "0 2017-09-08 00:44:05                   1  \n",
       "1 2017-09-08 00:44:26                   1  \n",
       "2 2017-09-08 00:45:15                   2  \n",
       "3 2017-09-08 00:48:39                   2  \n",
       "4 2017-09-08 00:53:13                   1  "
      ]
     },
     "execution_count": 28,
     "metadata": {},
     "output_type": "execute_result"
    }
   ],
   "source": [
    "data[play_vars].head()"
   ]
  },
  {
   "cell_type": "markdown",
   "metadata": {},
   "source": [
    "The two personnel columns may create a lot of different columns when one-hot encoded, so let's break them up into their different parts"
   ]
  },
  {
   "cell_type": "code",
   "execution_count": 29,
   "metadata": {},
   "outputs": [],
   "source": [
    "# to make things easier, we can break up the offense and defense personnel columns into their respective parts, \n",
    "# so that we avoid creating too many one-hot encoded variables\n",
    "def get_personnel(x, pos):\n",
    "    regex = '\\d '+ pos\n",
    "    try:\n",
    "        y = re.findall(regex, x)[0].split(' ')[0]\n",
    "    except:\n",
    "        y = 0\n",
    "    return int(y)"
   ]
  },
  {
   "cell_type": "code",
   "execution_count": 30,
   "metadata": {},
   "outputs": [],
   "source": [
    "# apply our function across the offense and defense positions\n",
    "off_positions = ['RB', 'TE', 'WR', 'OL']\n",
    "def_positions = ['DL', 'LB', 'DB']\n",
    "for pos in off_positions:\n",
    "    vec = data.OffensePersonnel.apply(lambda x: get_personnel(x, pos))\n",
    "    data[pos] = vec\n",
    "\n",
    "for pos in def_positions:\n",
    "    vec = data.DefensePersonnel.apply(lambda x: get_personnel(x, pos))\n",
    "    data[pos] = vec\n",
    "\n",
    "play_vars.extend(off_positions)\n",
    "play_vars.extend(def_positions)\n",
    "\n",
    "# since most of the time the number of offensive linemen is 5 (and not specified) let's fill in this column with the \n",
    "# number of remaining personned (RB + TE + WR + 1, with the 1 being the QB)\n",
    "data['OL'] = 11 - data.RB - data.TE - data.WR - 1\n",
    "\n",
    "data.drop(columns = ['OffensePersonnel', 'DefensePersonnel'], inplace = True)\n",
    "play_vars.remove('OffensePersonnel')\n",
    "play_vars.remove('DefensePersonnel')"
   ]
  },
  {
   "cell_type": "code",
   "execution_count": 31,
   "metadata": {},
   "outputs": [],
   "source": [
    "# finally, let's convert the clock to seconds so we don't need to worry about time formatting in our models\n",
    "def convert_clock(x):\n",
    "    return int(re.findall('[0-9]+',x)[0])*60 + int(re.findall('[0-9]+',x)[1])\n",
    "\n",
    "data['seconds_in_quarter'] = data.GameClock.apply(lambda x: convert_clock(x))\n",
    "data.drop(columns = 'GameClock', inplace = True)\n",
    "play_vars.append('seconds_in_quarter')\n",
    "play_vars.remove('GameClock')\n",
    "data.Quarter = data.Quarter.astype(str)"
   ]
  },
  {
   "cell_type": "code",
   "execution_count": 32,
   "metadata": {},
   "outputs": [],
   "source": [
    "# Finally, now that we have all our variables, let's drop the TimeHandoff field (We'll keep TimeSnap for later before \n",
    "# removing it)\n",
    "data.drop(columns = 'TimeHandoff', inplace = True)\n",
    "play_vars.remove('TimeHandoff')"
   ]
  },
  {
   "cell_type": "markdown",
   "metadata": {},
   "source": [
    "Let's now examine the play variables"
   ]
  },
  {
   "cell_type": "code",
   "execution_count": 33,
   "metadata": {
    "scrolled": true
   },
   "outputs": [
    {
     "data": {
      "text/html": [
       "<div>\n",
       "<style scoped>\n",
       "    .dataframe tbody tr th:only-of-type {\n",
       "        vertical-align: middle;\n",
       "    }\n",
       "\n",
       "    .dataframe tbody tr th {\n",
       "        vertical-align: top;\n",
       "    }\n",
       "\n",
       "    .dataframe thead th {\n",
       "        text-align: right;\n",
       "    }\n",
       "</style>\n",
       "<table border=\"1\" class=\"dataframe\">\n",
       "  <thead>\n",
       "    <tr style=\"text-align: right;\">\n",
       "      <th></th>\n",
       "      <th>PlayId</th>\n",
       "      <th>Quarter</th>\n",
       "      <th>Down</th>\n",
       "      <th>Distance</th>\n",
       "      <th>HomeScoreBeforePlay</th>\n",
       "      <th>VisitorScoreBeforePlay</th>\n",
       "      <th>OffenseFormation</th>\n",
       "      <th>DefendersInTheBox</th>\n",
       "      <th>PlayDirection</th>\n",
       "      <th>TimeSnap</th>\n",
       "      <th>seconds_to_handoff</th>\n",
       "      <th>RB</th>\n",
       "      <th>TE</th>\n",
       "      <th>WR</th>\n",
       "      <th>OL</th>\n",
       "      <th>DL</th>\n",
       "      <th>LB</th>\n",
       "      <th>DB</th>\n",
       "      <th>seconds_in_quarter</th>\n",
       "    </tr>\n",
       "  </thead>\n",
       "  <tbody>\n",
       "    <tr>\n",
       "      <th>0</th>\n",
       "      <td>20170907000118</td>\n",
       "      <td>1</td>\n",
       "      <td>3</td>\n",
       "      <td>2</td>\n",
       "      <td>0</td>\n",
       "      <td>0</td>\n",
       "      <td>SHOTGUN</td>\n",
       "      <td>6.0</td>\n",
       "      <td>left</td>\n",
       "      <td>2017-09-08 00:44:05</td>\n",
       "      <td>1</td>\n",
       "      <td>1</td>\n",
       "      <td>1</td>\n",
       "      <td>3</td>\n",
       "      <td>5</td>\n",
       "      <td>2</td>\n",
       "      <td>3</td>\n",
       "      <td>6</td>\n",
       "      <td>854</td>\n",
       "    </tr>\n",
       "    <tr>\n",
       "      <th>1</th>\n",
       "      <td>20170907000139</td>\n",
       "      <td>1</td>\n",
       "      <td>1</td>\n",
       "      <td>10</td>\n",
       "      <td>0</td>\n",
       "      <td>0</td>\n",
       "      <td>SHOTGUN</td>\n",
       "      <td>6.0</td>\n",
       "      <td>left</td>\n",
       "      <td>2017-09-08 00:44:26</td>\n",
       "      <td>1</td>\n",
       "      <td>1</td>\n",
       "      <td>1</td>\n",
       "      <td>3</td>\n",
       "      <td>5</td>\n",
       "      <td>2</td>\n",
       "      <td>3</td>\n",
       "      <td>6</td>\n",
       "      <td>832</td>\n",
       "    </tr>\n",
       "    <tr>\n",
       "      <th>2</th>\n",
       "      <td>20170907000189</td>\n",
       "      <td>1</td>\n",
       "      <td>1</td>\n",
       "      <td>10</td>\n",
       "      <td>0</td>\n",
       "      <td>0</td>\n",
       "      <td>SINGLEBACK</td>\n",
       "      <td>7.0</td>\n",
       "      <td>left</td>\n",
       "      <td>2017-09-08 00:45:15</td>\n",
       "      <td>2</td>\n",
       "      <td>1</td>\n",
       "      <td>1</td>\n",
       "      <td>3</td>\n",
       "      <td>5</td>\n",
       "      <td>2</td>\n",
       "      <td>3</td>\n",
       "      <td>6</td>\n",
       "      <td>782</td>\n",
       "    </tr>\n",
       "    <tr>\n",
       "      <th>3</th>\n",
       "      <td>20170907000345</td>\n",
       "      <td>1</td>\n",
       "      <td>2</td>\n",
       "      <td>2</td>\n",
       "      <td>0</td>\n",
       "      <td>0</td>\n",
       "      <td>JUMBO</td>\n",
       "      <td>9.0</td>\n",
       "      <td>left</td>\n",
       "      <td>2017-09-08 00:48:39</td>\n",
       "      <td>2</td>\n",
       "      <td>2</td>\n",
       "      <td>2</td>\n",
       "      <td>0</td>\n",
       "      <td>6</td>\n",
       "      <td>4</td>\n",
       "      <td>4</td>\n",
       "      <td>3</td>\n",
       "      <td>732</td>\n",
       "    </tr>\n",
       "    <tr>\n",
       "      <th>4</th>\n",
       "      <td>20170907000395</td>\n",
       "      <td>1</td>\n",
       "      <td>1</td>\n",
       "      <td>10</td>\n",
       "      <td>7</td>\n",
       "      <td>0</td>\n",
       "      <td>SHOTGUN</td>\n",
       "      <td>7.0</td>\n",
       "      <td>right</td>\n",
       "      <td>2017-09-08 00:53:13</td>\n",
       "      <td>1</td>\n",
       "      <td>1</td>\n",
       "      <td>3</td>\n",
       "      <td>1</td>\n",
       "      <td>5</td>\n",
       "      <td>3</td>\n",
       "      <td>2</td>\n",
       "      <td>6</td>\n",
       "      <td>728</td>\n",
       "    </tr>\n",
       "  </tbody>\n",
       "</table>\n",
       "</div>"
      ],
      "text/plain": [
       "           PlayId Quarter  Down  Distance  HomeScoreBeforePlay  \\\n",
       "0  20170907000118       1     3         2                    0   \n",
       "1  20170907000139       1     1        10                    0   \n",
       "2  20170907000189       1     1        10                    0   \n",
       "3  20170907000345       1     2         2                    0   \n",
       "4  20170907000395       1     1        10                    7   \n",
       "\n",
       "   VisitorScoreBeforePlay OffenseFormation  DefendersInTheBox PlayDirection  \\\n",
       "0                       0          SHOTGUN                6.0          left   \n",
       "1                       0          SHOTGUN                6.0          left   \n",
       "2                       0       SINGLEBACK                7.0          left   \n",
       "3                       0            JUMBO                9.0          left   \n",
       "4                       0          SHOTGUN                7.0         right   \n",
       "\n",
       "             TimeSnap  seconds_to_handoff  RB  TE  WR  OL  DL  LB  DB  \\\n",
       "0 2017-09-08 00:44:05                   1   1   1   3   5   2   3   6   \n",
       "1 2017-09-08 00:44:26                   1   1   1   3   5   2   3   6   \n",
       "2 2017-09-08 00:45:15                   2   1   1   3   5   2   3   6   \n",
       "3 2017-09-08 00:48:39                   2   2   2   0   6   4   4   3   \n",
       "4 2017-09-08 00:53:13                   1   1   3   1   5   3   2   6   \n",
       "\n",
       "   seconds_in_quarter  \n",
       "0                 854  \n",
       "1                 832  \n",
       "2                 782  \n",
       "3                 732  \n",
       "4                 728  "
      ]
     },
     "execution_count": 33,
     "metadata": {},
     "output_type": "execute_result"
    }
   ],
   "source": [
    "data[play_vars].head()"
   ]
  },
  {
   "cell_type": "markdown",
   "metadata": {},
   "source": [
    "#### Feature Engineering Part 3:  Player Variables\n",
    "\n",
    "Finally - let's check out the variables related to the person actually running the ball"
   ]
  },
  {
   "cell_type": "code",
   "execution_count": 34,
   "metadata": {},
   "outputs": [],
   "source": [
    "player_vars = ['NflId', 'DisplayName', 'JerseyNumber', 'NflIdRusher', 'X', 'Y', 'Orientation', 'Dir', \n",
    "               'PlayerHeight', 'PlayerWeight', 'PlayerBirthDate', 'PlayerCollegeName', 'Position']\n",
    "\n",
    "player_vars.append('TimeSnap')"
   ]
  },
  {
   "cell_type": "code",
   "execution_count": 35,
   "metadata": {},
   "outputs": [
    {
     "data": {
      "text/html": [
       "<div>\n",
       "<style scoped>\n",
       "    .dataframe tbody tr th:only-of-type {\n",
       "        vertical-align: middle;\n",
       "    }\n",
       "\n",
       "    .dataframe tbody tr th {\n",
       "        vertical-align: top;\n",
       "    }\n",
       "\n",
       "    .dataframe thead th {\n",
       "        text-align: right;\n",
       "    }\n",
       "</style>\n",
       "<table border=\"1\" class=\"dataframe\">\n",
       "  <thead>\n",
       "    <tr style=\"text-align: right;\">\n",
       "      <th></th>\n",
       "      <th>NflId</th>\n",
       "      <th>DisplayName</th>\n",
       "      <th>JerseyNumber</th>\n",
       "      <th>NflIdRusher</th>\n",
       "      <th>X</th>\n",
       "      <th>Y</th>\n",
       "      <th>Orientation</th>\n",
       "      <th>Dir</th>\n",
       "      <th>PlayerHeight</th>\n",
       "      <th>PlayerWeight</th>\n",
       "      <th>PlayerBirthDate</th>\n",
       "      <th>PlayerCollegeName</th>\n",
       "      <th>Position</th>\n",
       "      <th>TimeSnap</th>\n",
       "    </tr>\n",
       "  </thead>\n",
       "  <tbody>\n",
       "    <tr>\n",
       "      <th>0</th>\n",
       "      <td>2543773</td>\n",
       "      <td>James White</td>\n",
       "      <td>28</td>\n",
       "      <td>2543773</td>\n",
       "      <td>78.75</td>\n",
       "      <td>30.53</td>\n",
       "      <td>161.98</td>\n",
       "      <td>245.74</td>\n",
       "      <td>5-10</td>\n",
       "      <td>205</td>\n",
       "      <td>02/03/1992</td>\n",
       "      <td>Wisconsin</td>\n",
       "      <td>RB</td>\n",
       "      <td>2017-09-08 00:44:05</td>\n",
       "    </tr>\n",
       "    <tr>\n",
       "      <th>1</th>\n",
       "      <td>2543773</td>\n",
       "      <td>James White</td>\n",
       "      <td>28</td>\n",
       "      <td>2543773</td>\n",
       "      <td>71.07</td>\n",
       "      <td>27.16</td>\n",
       "      <td>210.70</td>\n",
       "      <td>312.20</td>\n",
       "      <td>5-10</td>\n",
       "      <td>205</td>\n",
       "      <td>02/03/1992</td>\n",
       "      <td>Wisconsin</td>\n",
       "      <td>RB</td>\n",
       "      <td>2017-09-08 00:44:26</td>\n",
       "    </tr>\n",
       "    <tr>\n",
       "      <th>2</th>\n",
       "      <td>2543773</td>\n",
       "      <td>James White</td>\n",
       "      <td>28</td>\n",
       "      <td>2543773</td>\n",
       "      <td>48.66</td>\n",
       "      <td>19.11</td>\n",
       "      <td>140.82</td>\n",
       "      <td>221.96</td>\n",
       "      <td>5-10</td>\n",
       "      <td>205</td>\n",
       "      <td>02/03/1992</td>\n",
       "      <td>Wisconsin</td>\n",
       "      <td>RB</td>\n",
       "      <td>2017-09-08 00:45:15</td>\n",
       "    </tr>\n",
       "    <tr>\n",
       "      <th>3</th>\n",
       "      <td>2539663</td>\n",
       "      <td>Mike Gillislee</td>\n",
       "      <td>35</td>\n",
       "      <td>2539663</td>\n",
       "      <td>15.53</td>\n",
       "      <td>25.36</td>\n",
       "      <td>186.22</td>\n",
       "      <td>275.44</td>\n",
       "      <td>5-11</td>\n",
       "      <td>210</td>\n",
       "      <td>11/01/1990</td>\n",
       "      <td>Florida</td>\n",
       "      <td>RB</td>\n",
       "      <td>2017-09-08 00:48:39</td>\n",
       "    </tr>\n",
       "    <tr>\n",
       "      <th>4</th>\n",
       "      <td>2557917</td>\n",
       "      <td>Kareem Hunt</td>\n",
       "      <td>27</td>\n",
       "      <td>2557917</td>\n",
       "      <td>29.99</td>\n",
       "      <td>27.12</td>\n",
       "      <td>34.27</td>\n",
       "      <td>157.92</td>\n",
       "      <td>5-11</td>\n",
       "      <td>216</td>\n",
       "      <td>08/06/1995</td>\n",
       "      <td>Toledo</td>\n",
       "      <td>RB</td>\n",
       "      <td>2017-09-08 00:53:13</td>\n",
       "    </tr>\n",
       "  </tbody>\n",
       "</table>\n",
       "</div>"
      ],
      "text/plain": [
       "     NflId     DisplayName  JerseyNumber  NflIdRusher      X      Y  \\\n",
       "0  2543773     James White            28      2543773  78.75  30.53   \n",
       "1  2543773     James White            28      2543773  71.07  27.16   \n",
       "2  2543773     James White            28      2543773  48.66  19.11   \n",
       "3  2539663  Mike Gillislee            35      2539663  15.53  25.36   \n",
       "4  2557917     Kareem Hunt            27      2557917  29.99  27.12   \n",
       "\n",
       "   Orientation     Dir PlayerHeight  PlayerWeight PlayerBirthDate  \\\n",
       "0       161.98  245.74         5-10           205      02/03/1992   \n",
       "1       210.70  312.20         5-10           205      02/03/1992   \n",
       "2       140.82  221.96         5-10           205      02/03/1992   \n",
       "3       186.22  275.44         5-11           210      11/01/1990   \n",
       "4        34.27  157.92         5-11           216      08/06/1995   \n",
       "\n",
       "  PlayerCollegeName Position            TimeSnap  \n",
       "0         Wisconsin       RB 2017-09-08 00:44:05  \n",
       "1         Wisconsin       RB 2017-09-08 00:44:26  \n",
       "2         Wisconsin       RB 2017-09-08 00:45:15  \n",
       "3           Florida       RB 2017-09-08 00:48:39  \n",
       "4            Toledo       RB 2017-09-08 00:53:13  "
      ]
     },
     "execution_count": 35,
     "metadata": {},
     "output_type": "execute_result"
    }
   ],
   "source": [
    "data[player_vars].head()"
   ]
  },
  {
   "cell_type": "markdown",
   "metadata": {},
   "source": [
    "The first thing we can simplify is related to all of the ID variables - since we already reduced down to places where the player ID is the ID of the person running the ball, we can eliminate one of the ID fields. Additionally, a lot of the information will be specific to one single football player. This means we will likely be able to remove a few other fields. \n",
    "\n",
    "Let's start with transforming the height and birthday fields"
   ]
  },
  {
   "cell_type": "code",
   "execution_count": 36,
   "metadata": {},
   "outputs": [],
   "source": [
    "def convert_age(x):\n",
    "    return (x.TimeSnap - DT.datetime.strptime(x.PlayerBirthDate, '%m/%d/%Y')).days\n",
    "data['player_age'] = data[['TimeSnap', 'PlayerBirthDate']].apply(lambda x: convert_age(x), axis = 1)\n",
    "data.drop(columns = ['PlayerBirthDate', 'TimeSnap'], inplace = True)\n",
    "player_vars.remove('PlayerBirthDate')\n",
    "player_vars.remove('TimeSnap')"
   ]
  },
  {
   "cell_type": "code",
   "execution_count": 37,
   "metadata": {},
   "outputs": [],
   "source": [
    "# Convert the player height (feet-in) to just inches to avoid mistaking it for a categorical variable\n",
    "data['player_height_in'] = data['PlayerHeight'].apply(lambda x: int(x.split('-')[0]) * 12 + int(x.split('-')[1]))\n",
    "data.drop(columns = 'PlayerHeight', inplace = True)\n",
    "player_vars.append('player_height_in')\n",
    "player_vars.remove('PlayerHeight')"
   ]
  },
  {
   "cell_type": "markdown",
   "metadata": {},
   "source": [
    "Now we need to work with the **X, Y, Orientation,** and **Direction** variables, which can be confusing to visualize. Kaggle and the NFL provided a helpful graphic:\n",
    "\n",
    "<img src='XY_explained.png' style='border-radius:8px;width:90%;height:350px;' align='center'></img>\n",
    "\n",
    "So now we just need to transform the these four variables based on which direction the team is going, which is provided in the _PlayDirection_ column"
   ]
  },
  {
   "cell_type": "code",
   "execution_count": 38,
   "metadata": {},
   "outputs": [],
   "source": [
    "data['x_t'] = np.where(data.PlayDirection == 'left', 120 - data.X, data.X)\n",
    "data['y_t'] = np.where(data.PlayDirection == 'left', 53.3 - data.Y, data.Y)\n",
    "data['orientation_t'] = np.where(data.PlayDirection == 'left', 360 - data.Orientation, data.Orientation)\n",
    "data['dir_t'] = np.where(data.PlayDirection == 'left', 360 - data.Dir, data.Dir)\n",
    "\n",
    "data.drop(columns = ['X', 'Y', 'Orientation', 'Dir'], inplace = True)\n",
    "\n",
    "player_vars.extend(['x_t', 'y_t', 'orientation_t', 'dir_t'])\n",
    "player_vars.remove('X')\n",
    "player_vars.remove('Y')\n",
    "player_vars.remove('Orientation')\n",
    "player_vars.remove('Dir')"
   ]
  },
  {
   "cell_type": "markdown",
   "metadata": {},
   "source": [
    "Finally, we need to deal with the player identification variables. Because the combination of name, team, jersey number, college, height, weight, and position are all highly correlated and identify a single person, we can likely remove some of these features"
   ]
  },
  {
   "cell_type": "code",
   "execution_count": 39,
   "metadata": {},
   "outputs": [
    {
     "data": {
      "text/html": [
       "<div>\n",
       "<style scoped>\n",
       "    .dataframe tbody tr th:only-of-type {\n",
       "        vertical-align: middle;\n",
       "    }\n",
       "\n",
       "    .dataframe tbody tr th {\n",
       "        vertical-align: top;\n",
       "    }\n",
       "\n",
       "    .dataframe thead th {\n",
       "        text-align: right;\n",
       "    }\n",
       "</style>\n",
       "<table border=\"1\" class=\"dataframe\">\n",
       "  <thead>\n",
       "    <tr style=\"text-align: right;\">\n",
       "      <th></th>\n",
       "      <th>NflId</th>\n",
       "      <th>DisplayName</th>\n",
       "      <th>JerseyNumber</th>\n",
       "      <th>NflIdRusher</th>\n",
       "      <th>PlayerWeight</th>\n",
       "      <th>PlayerCollegeName</th>\n",
       "      <th>Position</th>\n",
       "      <th>player_height_in</th>\n",
       "      <th>x_t</th>\n",
       "      <th>y_t</th>\n",
       "      <th>orientation_t</th>\n",
       "      <th>dir_t</th>\n",
       "    </tr>\n",
       "  </thead>\n",
       "  <tbody>\n",
       "    <tr>\n",
       "      <th>0</th>\n",
       "      <td>2543773</td>\n",
       "      <td>James White</td>\n",
       "      <td>28</td>\n",
       "      <td>2543773</td>\n",
       "      <td>205</td>\n",
       "      <td>Wisconsin</td>\n",
       "      <td>RB</td>\n",
       "      <td>70</td>\n",
       "      <td>41.25</td>\n",
       "      <td>22.77</td>\n",
       "      <td>198.02</td>\n",
       "      <td>114.26</td>\n",
       "    </tr>\n",
       "    <tr>\n",
       "      <th>1</th>\n",
       "      <td>2543773</td>\n",
       "      <td>James White</td>\n",
       "      <td>28</td>\n",
       "      <td>2543773</td>\n",
       "      <td>205</td>\n",
       "      <td>Wisconsin</td>\n",
       "      <td>RB</td>\n",
       "      <td>70</td>\n",
       "      <td>48.93</td>\n",
       "      <td>26.14</td>\n",
       "      <td>149.30</td>\n",
       "      <td>47.80</td>\n",
       "    </tr>\n",
       "    <tr>\n",
       "      <th>2</th>\n",
       "      <td>2543773</td>\n",
       "      <td>James White</td>\n",
       "      <td>28</td>\n",
       "      <td>2543773</td>\n",
       "      <td>205</td>\n",
       "      <td>Wisconsin</td>\n",
       "      <td>RB</td>\n",
       "      <td>70</td>\n",
       "      <td>71.34</td>\n",
       "      <td>34.19</td>\n",
       "      <td>219.18</td>\n",
       "      <td>138.04</td>\n",
       "    </tr>\n",
       "    <tr>\n",
       "      <th>3</th>\n",
       "      <td>2539663</td>\n",
       "      <td>Mike Gillislee</td>\n",
       "      <td>35</td>\n",
       "      <td>2539663</td>\n",
       "      <td>210</td>\n",
       "      <td>Florida</td>\n",
       "      <td>RB</td>\n",
       "      <td>71</td>\n",
       "      <td>104.47</td>\n",
       "      <td>27.94</td>\n",
       "      <td>173.78</td>\n",
       "      <td>84.56</td>\n",
       "    </tr>\n",
       "    <tr>\n",
       "      <th>4</th>\n",
       "      <td>2557917</td>\n",
       "      <td>Kareem Hunt</td>\n",
       "      <td>27</td>\n",
       "      <td>2557917</td>\n",
       "      <td>216</td>\n",
       "      <td>Toledo</td>\n",
       "      <td>RB</td>\n",
       "      <td>71</td>\n",
       "      <td>29.99</td>\n",
       "      <td>27.12</td>\n",
       "      <td>34.27</td>\n",
       "      <td>157.92</td>\n",
       "    </tr>\n",
       "  </tbody>\n",
       "</table>\n",
       "</div>"
      ],
      "text/plain": [
       "     NflId     DisplayName  JerseyNumber  NflIdRusher  PlayerWeight  \\\n",
       "0  2543773     James White            28      2543773           205   \n",
       "1  2543773     James White            28      2543773           205   \n",
       "2  2543773     James White            28      2543773           205   \n",
       "3  2539663  Mike Gillislee            35      2539663           210   \n",
       "4  2557917     Kareem Hunt            27      2557917           216   \n",
       "\n",
       "  PlayerCollegeName Position  player_height_in     x_t    y_t  orientation_t  \\\n",
       "0         Wisconsin       RB                70   41.25  22.77         198.02   \n",
       "1         Wisconsin       RB                70   48.93  26.14         149.30   \n",
       "2         Wisconsin       RB                70   71.34  34.19         219.18   \n",
       "3           Florida       RB                71  104.47  27.94         173.78   \n",
       "4            Toledo       RB                71   29.99  27.12          34.27   \n",
       "\n",
       "    dir_t  \n",
       "0  114.26  \n",
       "1   47.80  \n",
       "2  138.04  \n",
       "3   84.56  \n",
       "4  157.92  "
      ]
     },
     "execution_count": 39,
     "metadata": {},
     "output_type": "execute_result"
    }
   ],
   "source": [
    "data[player_vars].head()"
   ]
  },
  {
   "cell_type": "code",
   "execution_count": 40,
   "metadata": {},
   "outputs": [],
   "source": [
    "# Finally, let's drop the NflId and NflIdRusher since they don't mean anything to our dataset\n",
    "data.drop(columns = ['NflId', 'NflIdRusher', 'PlayId'], inplace = True)\n",
    "player_vars.remove('NflId')\n",
    "player_vars.remove('NflIdRusher')"
   ]
  },
  {
   "cell_type": "code",
   "execution_count": 41,
   "metadata": {},
   "outputs": [],
   "source": [
    "# since it would create ~600 indicator variables, let's drop the DisplayName, JerseyNumber, and PlayerCollegeName for\n",
    "# the time being, and we can add it later if we think the accuracy measure isn't high enough\n",
    "data.drop(columns = ['DisplayName', 'PlayerCollegeName', 'JerseyNumber'], inplace = True)\n",
    "player_vars.remove('DisplayName')\n",
    "player_vars.remove('PlayerCollegeName')\n",
    "player_vars.remove('JerseyNumber')"
   ]
  },
  {
   "cell_type": "markdown",
   "metadata": {},
   "source": [
    "Finally - let's make sure that we have our categorical variables explicitly set as so"
   ]
  },
  {
   "cell_type": "code",
   "execution_count": 42,
   "metadata": {},
   "outputs": [],
   "source": [
    "cat_vars = ['Quarter', 'Down', 'Season']\n",
    "for var in cat_vars:\n",
    "    data[var] = data[var].astype('category')"
   ]
  },
  {
   "cell_type": "markdown",
   "metadata": {},
   "source": [
    "Now let's check the columns and header of our final data frame"
   ]
  },
  {
   "cell_type": "code",
   "execution_count": 43,
   "metadata": {},
   "outputs": [
    {
     "data": {
      "text/plain": [
       "['S',\n",
       " 'A',\n",
       " 'Dis',\n",
       " 'Season',\n",
       " 'Quarter',\n",
       " 'Down',\n",
       " 'Distance',\n",
       " 'HomeScoreBeforePlay',\n",
       " 'VisitorScoreBeforePlay',\n",
       " 'OffenseFormation',\n",
       " 'DefendersInTheBox',\n",
       " 'PlayDirection',\n",
       " 'PlayerWeight',\n",
       " 'Position',\n",
       " 'HomeTeamAbbr',\n",
       " 'VisitorTeamAbbr',\n",
       " 'Week',\n",
       " 'StadiumType',\n",
       " 'GameWeather',\n",
       " 'Temperature',\n",
       " 'Humidity',\n",
       " 'WindSpeed',\n",
       " 'first_down',\n",
       " 'International',\n",
       " 'natural_field',\n",
       " 'yards_to_endzone',\n",
       " 'seconds_to_handoff',\n",
       " 'home_team_posession',\n",
       " 'RB',\n",
       " 'TE',\n",
       " 'WR',\n",
       " 'OL',\n",
       " 'DL',\n",
       " 'LB',\n",
       " 'DB',\n",
       " 'seconds_in_quarter',\n",
       " 'player_age',\n",
       " 'player_height_in',\n",
       " 'x_t',\n",
       " 'y_t',\n",
       " 'orientation_t',\n",
       " 'dir_t']"
      ]
     },
     "execution_count": 43,
     "metadata": {},
     "output_type": "execute_result"
    }
   ],
   "source": [
    "list(data.columns)"
   ]
  },
  {
   "cell_type": "code",
   "execution_count": 44,
   "metadata": {},
   "outputs": [
    {
     "data": {
      "text/html": [
       "<div>\n",
       "<style scoped>\n",
       "    .dataframe tbody tr th:only-of-type {\n",
       "        vertical-align: middle;\n",
       "    }\n",
       "\n",
       "    .dataframe tbody tr th {\n",
       "        vertical-align: top;\n",
       "    }\n",
       "\n",
       "    .dataframe thead th {\n",
       "        text-align: right;\n",
       "    }\n",
       "</style>\n",
       "<table border=\"1\" class=\"dataframe\">\n",
       "  <thead>\n",
       "    <tr style=\"text-align: right;\">\n",
       "      <th></th>\n",
       "      <th>S</th>\n",
       "      <th>A</th>\n",
       "      <th>Dis</th>\n",
       "      <th>Season</th>\n",
       "      <th>Quarter</th>\n",
       "      <th>Down</th>\n",
       "      <th>Distance</th>\n",
       "      <th>HomeScoreBeforePlay</th>\n",
       "      <th>VisitorScoreBeforePlay</th>\n",
       "      <th>OffenseFormation</th>\n",
       "      <th>...</th>\n",
       "      <th>DL</th>\n",
       "      <th>LB</th>\n",
       "      <th>DB</th>\n",
       "      <th>seconds_in_quarter</th>\n",
       "      <th>player_age</th>\n",
       "      <th>player_height_in</th>\n",
       "      <th>x_t</th>\n",
       "      <th>y_t</th>\n",
       "      <th>orientation_t</th>\n",
       "      <th>dir_t</th>\n",
       "    </tr>\n",
       "  </thead>\n",
       "  <tbody>\n",
       "    <tr>\n",
       "      <th>0</th>\n",
       "      <td>3.63</td>\n",
       "      <td>3.35</td>\n",
       "      <td>0.38</td>\n",
       "      <td>2017</td>\n",
       "      <td>1</td>\n",
       "      <td>3</td>\n",
       "      <td>2</td>\n",
       "      <td>0</td>\n",
       "      <td>0</td>\n",
       "      <td>SHOTGUN</td>\n",
       "      <td>...</td>\n",
       "      <td>2</td>\n",
       "      <td>3</td>\n",
       "      <td>6</td>\n",
       "      <td>854</td>\n",
       "      <td>9349</td>\n",
       "      <td>70</td>\n",
       "      <td>41.25</td>\n",
       "      <td>22.77</td>\n",
       "      <td>198.02</td>\n",
       "      <td>114.26</td>\n",
       "    </tr>\n",
       "    <tr>\n",
       "      <th>1</th>\n",
       "      <td>3.06</td>\n",
       "      <td>2.41</td>\n",
       "      <td>0.34</td>\n",
       "      <td>2017</td>\n",
       "      <td>1</td>\n",
       "      <td>1</td>\n",
       "      <td>10</td>\n",
       "      <td>0</td>\n",
       "      <td>0</td>\n",
       "      <td>SHOTGUN</td>\n",
       "      <td>...</td>\n",
       "      <td>2</td>\n",
       "      <td>3</td>\n",
       "      <td>6</td>\n",
       "      <td>832</td>\n",
       "      <td>9349</td>\n",
       "      <td>70</td>\n",
       "      <td>48.93</td>\n",
       "      <td>26.14</td>\n",
       "      <td>149.30</td>\n",
       "      <td>47.80</td>\n",
       "    </tr>\n",
       "    <tr>\n",
       "      <th>2</th>\n",
       "      <td>5.77</td>\n",
       "      <td>2.42</td>\n",
       "      <td>0.60</td>\n",
       "      <td>2017</td>\n",
       "      <td>1</td>\n",
       "      <td>1</td>\n",
       "      <td>10</td>\n",
       "      <td>0</td>\n",
       "      <td>0</td>\n",
       "      <td>SINGLEBACK</td>\n",
       "      <td>...</td>\n",
       "      <td>2</td>\n",
       "      <td>3</td>\n",
       "      <td>6</td>\n",
       "      <td>782</td>\n",
       "      <td>9349</td>\n",
       "      <td>70</td>\n",
       "      <td>71.34</td>\n",
       "      <td>34.19</td>\n",
       "      <td>219.18</td>\n",
       "      <td>138.04</td>\n",
       "    </tr>\n",
       "    <tr>\n",
       "      <th>3</th>\n",
       "      <td>4.45</td>\n",
       "      <td>3.20</td>\n",
       "      <td>0.46</td>\n",
       "      <td>2017</td>\n",
       "      <td>1</td>\n",
       "      <td>2</td>\n",
       "      <td>2</td>\n",
       "      <td>0</td>\n",
       "      <td>0</td>\n",
       "      <td>JUMBO</td>\n",
       "      <td>...</td>\n",
       "      <td>4</td>\n",
       "      <td>4</td>\n",
       "      <td>3</td>\n",
       "      <td>732</td>\n",
       "      <td>9808</td>\n",
       "      <td>71</td>\n",
       "      <td>104.47</td>\n",
       "      <td>27.94</td>\n",
       "      <td>173.78</td>\n",
       "      <td>84.56</td>\n",
       "    </tr>\n",
       "    <tr>\n",
       "      <th>4</th>\n",
       "      <td>3.90</td>\n",
       "      <td>2.53</td>\n",
       "      <td>0.44</td>\n",
       "      <td>2017</td>\n",
       "      <td>1</td>\n",
       "      <td>1</td>\n",
       "      <td>10</td>\n",
       "      <td>7</td>\n",
       "      <td>0</td>\n",
       "      <td>SHOTGUN</td>\n",
       "      <td>...</td>\n",
       "      <td>3</td>\n",
       "      <td>2</td>\n",
       "      <td>6</td>\n",
       "      <td>728</td>\n",
       "      <td>8069</td>\n",
       "      <td>71</td>\n",
       "      <td>29.99</td>\n",
       "      <td>27.12</td>\n",
       "      <td>34.27</td>\n",
       "      <td>157.92</td>\n",
       "    </tr>\n",
       "  </tbody>\n",
       "</table>\n",
       "<p>5 rows × 42 columns</p>\n",
       "</div>"
      ],
      "text/plain": [
       "      S     A   Dis Season Quarter Down  Distance  HomeScoreBeforePlay  \\\n",
       "0  3.63  3.35  0.38   2017       1    3         2                    0   \n",
       "1  3.06  2.41  0.34   2017       1    1        10                    0   \n",
       "2  5.77  2.42  0.60   2017       1    1        10                    0   \n",
       "3  4.45  3.20  0.46   2017       1    2         2                    0   \n",
       "4  3.90  2.53  0.44   2017       1    1        10                    7   \n",
       "\n",
       "   VisitorScoreBeforePlay OffenseFormation  ...  DL LB  DB seconds_in_quarter  \\\n",
       "0                       0          SHOTGUN  ...   2  3   6                854   \n",
       "1                       0          SHOTGUN  ...   2  3   6                832   \n",
       "2                       0       SINGLEBACK  ...   2  3   6                782   \n",
       "3                       0            JUMBO  ...   4  4   3                732   \n",
       "4                       0          SHOTGUN  ...   3  2   6                728   \n",
       "\n",
       "  player_age player_height_in     x_t    y_t orientation_t   dir_t  \n",
       "0       9349               70   41.25  22.77        198.02  114.26  \n",
       "1       9349               70   48.93  26.14        149.30   47.80  \n",
       "2       9349               70   71.34  34.19        219.18  138.04  \n",
       "3       9808               71  104.47  27.94        173.78   84.56  \n",
       "4       8069               71   29.99  27.12         34.27  157.92  \n",
       "\n",
       "[5 rows x 42 columns]"
      ]
     },
     "execution_count": 44,
     "metadata": {},
     "output_type": "execute_result"
    }
   ],
   "source": [
    "data.head()"
   ]
  },
  {
   "cell_type": "markdown",
   "metadata": {},
   "source": [
    "### Part 2: Training Our Models\n",
    "\n",
    "Now that we have the final dataset we are going to work with, we need to finalize the data transformations and train our classifiers. We'll do this in 6 steps:\n",
    "1. Split the data into our feature and target variables <br><br>\n",
    "2. One-hot encode our features<br><br>\n",
    "3. Split the data into our train and test sets<br><br>\n",
    "4. Oversample our data (if the target variable is unbalanced)<br><br>\n",
    "5. Define our classifier models and respective hyperparameters for our grid-search<br><br>\n",
    "6. Train our classifier models (with StandardScaler) in a Pipeline"
   ]
  },
  {
   "cell_type": "code",
   "execution_count": 45,
   "metadata": {},
   "outputs": [
    {
     "name": "stderr",
     "output_type": "stream",
     "text": [
      "Using TensorFlow backend.\n"
     ]
    }
   ],
   "source": [
    "# import our packages\n",
    "from sklearn.model_selection import train_test_split\n",
    "from sklearn.preprocessing import StandardScaler\n",
    "from imblearn.over_sampling import RandomOverSampler"
   ]
  },
  {
   "cell_type": "code",
   "execution_count": 46,
   "metadata": {},
   "outputs": [],
   "source": [
    "# 1. split our data into feature and target data frames\n",
    "data = data.dropna()\n",
    "target = 'first_down'\n",
    "X = data.drop(columns = target)\n",
    "y = data[target]"
   ]
  },
  {
   "cell_type": "code",
   "execution_count": 47,
   "metadata": {},
   "outputs": [
    {
     "data": {
      "text/plain": [
       "(22850, 135)"
      ]
     },
     "execution_count": 47,
     "metadata": {},
     "output_type": "execute_result"
    }
   ],
   "source": [
    "# 2. one-hot encode our features\n",
    "X = pd.get_dummies(X)\n",
    "\n",
    "# (a quick check of the new shape)\n",
    "X.shape"
   ]
  },
  {
   "cell_type": "code",
   "execution_count": 48,
   "metadata": {},
   "outputs": [],
   "source": [
    "# 3. split our training and testing sets\n",
    "X_train, X_test, y_train, y_test = train_test_split(X, y, test_size=0.3, random_state=0)"
   ]
  },
  {
   "cell_type": "code",
   "execution_count": 49,
   "metadata": {},
   "outputs": [
    {
     "data": {
      "text/plain": [
       "1    12610\n",
       "0    12610\n",
       "Name: first_down, dtype: int64"
      ]
     },
     "execution_count": 49,
     "metadata": {},
     "output_type": "execute_result"
    }
   ],
   "source": [
    "# 4. oversample our data (and check the resulting dataframe)\n",
    "ros = RandomOverSampler(random_state = 0)\n",
    "X_train, y_train = ros.fit_sample(X_train,y_train)\n",
    "\n",
    "pd.DataFrame(data=y_train, columns=[target])[target].value_counts()"
   ]
  },
  {
   "cell_type": "code",
   "execution_count": 50,
   "metadata": {},
   "outputs": [],
   "source": [
    "# 5.1 Define our Models (and import the requisite packages)\n",
    "from sklearn.linear_model import LogisticRegression\n",
    "from sklearn.neural_network import MLPClassifier\n",
    "from sklearn.tree import DecisionTreeClassifier\n",
    "from sklearn.ensemble import RandomForestClassifier\n",
    "from xgboost.sklearn import XGBClassifier\n",
    "from sklearn.svm import SVC\n",
    "from sklearn.neighbors import KNeighborsClassifier\n",
    "from sklearn.naive_bayes import GaussianNB\n",
    "\n",
    "from sklearn.model_selection import GridSearchCV\n",
    "from sklearn.model_selection import StratifiedKFold\n",
    "\n",
    "clfs = {'lr': LogisticRegression(random_state=0),\n",
    "        'mlp': MLPClassifier(random_state=0),\n",
    "        'dt': DecisionTreeClassifier(random_state=0),\n",
    "        'rf': RandomForestClassifier(random_state=0),\n",
    "        'xgb': XGBClassifier(seed=0),\n",
    "#         'svc': SVC(random_state=0),\n",
    "        'knn': KNeighborsClassifier(),\n",
    "        'gnb': GaussianNB()}"
   ]
  },
  {
   "cell_type": "markdown",
   "metadata": {},
   "source": [
    "_(NOTE: SVCs were dropped due to an extremely long time required for training)_"
   ]
  },
  {
   "cell_type": "code",
   "execution_count": 51,
   "metadata": {},
   "outputs": [],
   "source": [
    "# 5.2 Create our pipeline framework\n",
    "from sklearn.pipeline import Pipeline\n",
    "from sklearn.preprocessing import StandardScaler\n",
    "\n",
    "pipe_clfs = {}\n",
    "\n",
    "for name, clf in clfs.items():\n",
    "    pipe_clfs[name] = Pipeline([('StandardScaler', StandardScaler()), \n",
    "                                ('clf', clf)])"
   ]
  },
  {
   "cell_type": "code",
   "execution_count": 52,
   "metadata": {},
   "outputs": [],
   "source": [
    "# 5.3 Define our hyperparameter grid dictionary\n",
    "param_grids = {}"
   ]
  },
  {
   "cell_type": "code",
   "execution_count": 53,
   "metadata": {},
   "outputs": [],
   "source": [
    "### LOGISTIC REGRESSION ###\n",
    "C_range = [10 ** i for i in range(-4, 5)]\n",
    "\n",
    "param_grid = [{'clf__multi_class': ['ovr'], \n",
    "               'clf__solver': ['newton-cg', 'lbfgs', 'liblinear', 'sag', 'saga'],\n",
    "               'clf__C': C_range},\n",
    "              \n",
    "              {'clf__multi_class': ['multinomial'],\n",
    "               'clf__solver': ['newton-cg', 'lbfgs', 'sag', 'saga'],\n",
    "               'clf__C': C_range}]\n",
    "\n",
    "param_grids['lr'] = param_grid"
   ]
  },
  {
   "cell_type": "code",
   "execution_count": 54,
   "metadata": {},
   "outputs": [],
   "source": [
    "### MLP ###\n",
    "param_grid = [{'clf__hidden_layer_sizes': [10, 100],\n",
    "               'clf__activation': ['identity', 'logistic', 'tanh', 'relu']}]\n",
    "\n",
    "param_grids['mlp'] = param_grid"
   ]
  },
  {
   "cell_type": "code",
   "execution_count": 55,
   "metadata": {},
   "outputs": [],
   "source": [
    "### DECISION TREE ###\n",
    "param_grid = [{'clf__min_samples_split': [2, 10, 25],\n",
    "               'clf__min_samples_leaf': [1, 10, 25]}]\n",
    "\n",
    "param_grids['dt'] = param_grid"
   ]
  },
  {
   "cell_type": "code",
   "execution_count": 56,
   "metadata": {},
   "outputs": [],
   "source": [
    "### RANDOM FOREST ###\n",
    "param_grid = [{'clf__n_estimators': [10, 100],\n",
    "               'clf__min_samples_split': [2, 10, 25],\n",
    "               'clf__min_samples_leaf': [1, 10, 25]}]\n",
    "\n",
    "param_grids['rf'] = param_grid"
   ]
  },
  {
   "cell_type": "code",
   "execution_count": 57,
   "metadata": {},
   "outputs": [],
   "source": [
    "### XGBOOST ###\n",
    "param_grid = [{'clf__eta': [10 ** i for i in range(-4, 1)],\n",
    "               'clf__gamma': [0, 10, 100],\n",
    "               'clf__lambda': [10 ** i for i in range(-4, 3)]}]\n",
    "\n",
    "param_grids['xgb'] = param_grid"
   ]
  },
  {
   "cell_type": "code",
   "execution_count": 58,
   "metadata": {},
   "outputs": [],
   "source": [
    "# ### SVC ### \n",
    "# param_grid = [{'clf__C': [10 ** i for i in range(-4, 5)],\n",
    "#                'clf__gamma': ['auto', 'scale']}]\n",
    "\n",
    "# param_grids['svc'] = param_grid"
   ]
  },
  {
   "cell_type": "code",
   "execution_count": 59,
   "metadata": {},
   "outputs": [],
   "source": [
    "### KNN ###\n",
    "param_grid = [{'clf__n_neighbors': list(range(1, 11))}]\n",
    "\n",
    "param_grids['knn'] = param_grid"
   ]
  },
  {
   "cell_type": "code",
   "execution_count": 60,
   "metadata": {},
   "outputs": [],
   "source": [
    "### GNB ###\n",
    "param_grid = [{'clf__var_smoothing': [10 ** i for i in range(-10, -7)]}]\n",
    "\n",
    "param_grids['gnb'] = param_grid"
   ]
  },
  {
   "cell_type": "code",
   "execution_count": 61,
   "metadata": {},
   "outputs": [],
   "source": [
    "# 6 Train our models using gridsearchCV \n",
    "\n",
    "import warnings\n",
    "warnings.filterwarnings('ignore')"
   ]
  },
  {
   "cell_type": "markdown",
   "metadata": {},
   "source": [
    "Since these models take a while to train, let's save our output in a pickle file so that we can reload them whenever we want to restart the workbook, and not have to retrain everything. After this is run once, we'll comment out the training steps and writing of the object to a pickle file"
   ]
  },
  {
   "cell_type": "code",
   "execution_count": 62,
   "metadata": {},
   "outputs": [],
   "source": [
    "# # The list of [best_score_, best_params_, best_estimator_]\n",
    "# best_score_param_estimators = []\n",
    "# times = []\n",
    "# # For each clasasifier\n",
    "# for name in pipe_clfs.keys():\n",
    "#     start = DT.datetime.now()\n",
    "\n",
    "#     gs = GridSearchCV(estimator=pipe_clfs[name],\n",
    "#                       param_grid=param_grids[name],\n",
    "#                       scoring='accuracy',\n",
    "#                       n_jobs=1,\n",
    "#                       iid=False,\n",
    "#                       cv=StratifiedKFold(n_splits=5,\n",
    "#                                          shuffle=True,\n",
    "#                                          random_state=0))\n",
    "\n",
    "#     gs = gs.fit(X_train,y_train)\n",
    "    \n",
    "#     best_score_param_estimators.append([gs.best_score_, gs.best_params_, gs.best_estimator_])\n",
    "#     end = DT.datetime.now()\n",
    "#     times.append([name, end-start])\n",
    "#     print('Completed training {} in {} with {} hyperparameters'.format(name, end - start, len(param_grids[name][0])))"
   ]
  },
  {
   "cell_type": "code",
   "execution_count": 63,
   "metadata": {},
   "outputs": [],
   "source": [
    "# import pickle\n",
    "# with open('model_updated.dictionary', 'wb') as file:\n",
    "#     pickle.dump(best_score_param_estimators, file)"
   ]
  },
  {
   "cell_type": "markdown",
   "metadata": {},
   "source": [
    "As we can see from the below image noting the total training time required, saving the models will be very helpful moving forward:\n",
    "<br><br>\n",
    "<img src=\"traintime.png\" style='width:75%;height:300;' align='center'> </img>"
   ]
  },
  {
   "cell_type": "code",
   "execution_count": 64,
   "metadata": {},
   "outputs": [],
   "source": [
    "import pickle\n",
    "with open('model_updated.dictionary', 'rb') as file:\n",
    "    best_score_param_estimators = pickle.load(file)"
   ]
  },
  {
   "cell_type": "markdown",
   "metadata": {},
   "source": [
    "Now that we have our models, let's evaluate the cross-validation accuracy"
   ]
  },
  {
   "cell_type": "code",
   "execution_count": 65,
   "metadata": {},
   "outputs": [
    {
     "name": "stdout",
     "output_type": "stream",
     "text": [
      "<class 'sklearn.ensemble.forest.RandomForestClassifier'> \n",
      " Accuracy: 94.46% \n",
      " Best Parameters: {'clf__min_samples_leaf': 1, 'clf__min_samples_split': 2, 'clf__n_estimators': 100}\n",
      "\n",
      "<class 'sklearn.neural_network.multilayer_perceptron.MLPClassifier'> \n",
      " Accuracy: 90.52% \n",
      " Best Parameters: {'clf__activation': 'logistic', 'clf__hidden_layer_sizes': 100}\n",
      "\n",
      "<class 'sklearn.tree.tree.DecisionTreeClassifier'> \n",
      " Accuracy: 88.93% \n",
      " Best Parameters: {'clf__min_samples_leaf': 1, 'clf__min_samples_split': 2}\n",
      "\n",
      "<class 'sklearn.neighbors.classification.KNeighborsClassifier'> \n",
      " Accuracy: 87.57% \n",
      " Best Parameters: {'clf__n_neighbors': 1}\n",
      "\n",
      "<class 'xgboost.sklearn.XGBClassifier'> \n",
      " Accuracy: 74.22% \n",
      " Best Parameters: {'clf__eta': 0.0001, 'clf__gamma': 0, 'clf__lambda': 0.0001}\n",
      "\n",
      "<class 'sklearn.linear_model.logistic.LogisticRegression'> \n",
      " Accuracy: 72.18% \n",
      " Best Parameters: {'clf__C': 0.1, 'clf__multi_class': 'ovr', 'clf__solver': 'newton-cg'}\n",
      "\n",
      "<class 'sklearn.naive_bayes.GaussianNB'> \n",
      " Accuracy: 59.64% \n",
      " Best Parameters: {'clf__var_smoothing': 1e-08}\n",
      "\n"
     ]
    }
   ],
   "source": [
    "# Let's see which models performed the best on the cross-validated training data\n",
    "best_score_param_estimators = sorted(best_score_param_estimators, key=lambda x : x[0], reverse=True)\n",
    "\n",
    "for best_score_param_estimator in best_score_param_estimators:\n",
    "    print(type(best_score_param_estimator[2].named_steps['clf']),\n",
    "          '\\n',\n",
    "          'Accuracy: {}%'.format(round(best_score_param_estimator[0]*100,2)),\n",
    "          '\\n',\n",
    "          'Best Parameters: {}'.format(best_score_param_estimator[1]),\n",
    "          end='\\n\\n')"
   ]
  },
  {
   "cell_type": "markdown",
   "metadata": {},
   "source": [
    "It appears that the Random Forest classifier performed the best on the training data followed by the MLP, which both achieved over 90% accuracy when cross validating on the training data. It also looks like our Gradient Boosting Machine and Logistic Regression models performed relatively poorly in comparison - only achieving ~70% accuracy.\n",
    "\n",
    "However, this is just the training data - let's see how they all perform on the testing data we specifically set aside"
   ]
  },
  {
   "cell_type": "markdown",
   "metadata": {},
   "source": [
    "### Part 3: Analyzing Predictions on Testing Data\n",
    "\n",
    "Now that we have our final models with the tuned hyperparameters, we can predict whether or not a team would run for a first down using the testing data and see how well our models perform on new, unseen data"
   ]
  },
  {
   "cell_type": "code",
   "execution_count": 66,
   "metadata": {},
   "outputs": [
    {
     "data": {
      "text/plain": [
       "[['RandomForestClassifier', 0.825528811086798],\n",
       " ['XGBClassifier', 0.7905178701677608],\n",
       " ['MLPClassifier', 0.7670313639679066],\n",
       " ['LogisticRegression', 0.762363238512035],\n",
       " ['DecisionTreeClassifier', 0.7409190371991248],\n",
       " ['GaussianNB', 0.7064916119620714],\n",
       " ['KNeighborsClassifier', 0.6935083880379285]]"
      ]
     },
     "execution_count": 66,
     "metadata": {},
     "output_type": "execute_result"
    }
   ],
   "source": [
    "# Let's check the predictions on the testing data to see which model performed best on the new data\n",
    "from sklearn import metrics\n",
    "pred_acc = []\n",
    "\n",
    "for best_score_param_estimator in best_score_param_estimators:\n",
    "    y_pred = best_score_param_estimator[2].predict(X_test)\n",
    "    pred_acc.append([best_score_param_estimator[2].named_steps['clf'].__class__.__name__, \n",
    "                     metrics.accuracy_score(y_true = y_test, y_pred =  y_pred)])\n",
    "\n",
    "pred_acc = sorted(pred_acc, key = lambda x: x[1], reverse = True)\n",
    "pred_acc"
   ]
  },
  {
   "cell_type": "markdown",
   "metadata": {},
   "source": [
    "We can see that the Random Forest still performs the best on the testing data (at 82.5% accuracy), however the Gradient Boosting Machine has jumped all the way up to second in terms of prediction accuracy at almost 80%. We can visualize this difference in model performance below"
   ]
  },
  {
   "cell_type": "code",
   "execution_count": 67,
   "metadata": {},
   "outputs": [
    {
     "data": {
      "text/plain": [
       "['RandomForestClassifier',\n",
       " RandomForestClassifier(bootstrap=True, class_weight=None, criterion='gini',\n",
       "                        max_depth=None, max_features='auto', max_leaf_nodes=None,\n",
       "                        min_impurity_decrease=0.0, min_impurity_split=None,\n",
       "                        min_samples_leaf=1, min_samples_split=2,\n",
       "                        min_weight_fraction_leaf=0.0, n_estimators=100,\n",
       "                        n_jobs=None, oob_score=False, random_state=0, verbose=0,\n",
       "                        warm_start=False),\n",
       " 0.825528811086798,\n",
       " array([0, 0, 0, ..., 0, 0, 0])]"
      ]
     },
     "execution_count": 67,
     "metadata": {},
     "output_type": "execute_result"
    }
   ],
   "source": [
    "# we're also going to save a lot of the information in a separate array for use in future steps, including the array\n",
    "# of predictions so we aren't re-predicting everything in future steps (mostly thanks to KNN predicting relatively slowly)\n",
    "preds = []\n",
    "\n",
    "for best_score_param_estimator in best_score_param_estimators:\n",
    "    y_pred = best_score_param_estimator[2].predict(X_test)\n",
    "    preds.append([best_score_param_estimator[2].named_steps['clf'].__class__.__name__,\n",
    "                  best_score_param_estimator[2].named_steps['clf'], \n",
    "                  metrics.accuracy_score(y_test, y_pred), \n",
    "                  y_pred])\n",
    "preds = sorted(preds, key = lambda x: x[2], reverse = True)\n",
    "\n",
    "# and now to get an example of what one of these objects looks like\n",
    "preds[0]"
   ]
  },
  {
   "cell_type": "code",
   "execution_count": 68,
   "metadata": {
    "scrolled": false
   },
   "outputs": [
    {
     "name": "stdout",
     "output_type": "stream",
     "text": [
      "\n"
     ]
    },
    {
     "data": {
      "image/png": "[encoded data removed]",
      "text/plain": [
       "<Figure size 864x432 with 1 Axes>"
      ]
     },
     "metadata": {},
     "output_type": "display_data"
    }
   ],
   "source": [
    "# let's visualize the accuracy comparison for each classifier\n",
    "\n",
    "import seaborn as sns\n",
    "sns.set_style('white')\n",
    "\n",
    "names = [x[0] for x in preds]\n",
    "acc = [float(x[2]) for x in preds]\n",
    "\n",
    "print()\n",
    "plt.figure(figsize = (12,6))\n",
    "sns.barplot(names, acc, color = 'navy')\n",
    "plt.xticks(rotation = 30, horizontalalignment=\"right\")\n",
    "plt.xlabel('\\nClassifier', fontsize = 12)\n",
    "plt.title('Prediction Accuracy of Classifiers on Testing Dataset', fontsize = 16)\n",
    "plt.gca().axes.get_yaxis().set_visible(False)\n",
    "sns.despine()\n",
    "for i, v in enumerate(acc):\n",
    "    plt.text(i - .15,v + .01, str(round(v * 100,2))+'%', color='black')\n",
    "\n",
    "plt.show()"
   ]
  },
  {
   "cell_type": "markdown",
   "metadata": {},
   "source": [
    "And now for the Confusion Matrix to see whether our errors are false positives (incorrectly predicting a first down) and a false negative (incorrectly predicting NOT getting a first down)"
   ]
  },
  {
   "cell_type": "code",
   "execution_count": 69,
   "metadata": {
    "scrolled": false
   },
   "outputs": [
    {
     "name": "stdout",
     "output_type": "stream",
     "text": [
      "RandomForestClassifier Accuracy: 0.825528811086798\n",
      "\n"
     ]
    },
    {
     "data": {
      "image/png": "[encoded data removed]",
      "text/plain": [
       "<Figure size 432x288 with 2 Axes>"
      ]
     },
     "metadata": {},
     "output_type": "display_data"
    },
    {
     "name": "stdout",
     "output_type": "stream",
     "text": [
      "XGBClassifier Accuracy: 0.7905178701677608\n",
      "\n"
     ]
    },
    {
     "data": {
      "image/png": "[encoded data removed]",
      "text/plain": [
       "<Figure size 432x288 with 2 Axes>"
      ]
     },
     "metadata": {},
     "output_type": "display_data"
    },
    {
     "name": "stdout",
     "output_type": "stream",
     "text": [
      "MLPClassifier Accuracy: 0.7670313639679066\n",
      "\n"
     ]
    },
    {
     "data": {
      "image/png": "[encoded data removed]",
      "text/plain": [
       "<Figure size 432x288 with 2 Axes>"
      ]
     },
     "metadata": {},
     "output_type": "display_data"
    },
    {
     "name": "stdout",
     "output_type": "stream",
     "text": [
      "LogisticRegression Accuracy: 0.762363238512035\n",
      "\n"
     ]
    },
    {
     "data": {
      "image/png": "[encoded data removed]",
      "text/plain": [
       "<Figure size 432x288 with 2 Axes>"
      ]
     },
     "metadata": {},
     "output_type": "display_data"
    },
    {
     "name": "stdout",
     "output_type": "stream",
     "text": [
      "DecisionTreeClassifier Accuracy: 0.7409190371991248\n",
      "\n"
     ]
    },
    {
     "data": {
      "image/png": "[encoded data removed]",
      "text/plain": [
       "<Figure size 432x288 with 2 Axes>"
      ]
     },
     "metadata": {},
     "output_type": "display_data"
    },
    {
     "name": "stdout",
     "output_type": "stream",
     "text": [
      "GaussianNB Accuracy: 0.7064916119620714\n",
      "\n"
     ]
    },
    {
     "data": {
      "image/png": "[encoded data removed]",
      "text/plain": [
       "<Figure size 432x288 with 2 Axes>"
      ]
     },
     "metadata": {},
     "output_type": "display_data"
    },
    {
     "name": "stdout",
     "output_type": "stream",
     "text": [
      "KNeighborsClassifier Accuracy: 0.6935083880379285\n",
      "\n"
     ]
    },
    {
     "data": {
      "image/png": "[encoded data removed]",
      "text/plain": [
       "<Figure size 432x288 with 2 Axes>"
      ]
     },
     "metadata": {},
     "output_type": "display_data"
    }
   ],
   "source": [
    "from sklearn import metrics\n",
    "for pred in preds:\n",
    "    print(pred[0] + ' Accuracy: ' + str(pred[2]), end = '\\n\\n')\n",
    "    cm = pd.DataFrame(metrics.confusion_matrix(y_test, pred[-1]))\n",
    "    sns.heatmap(cm, annot = True, fmt = 'g', cmap = 'Blues')\n",
    "    plt.show()"
   ]
  },
  {
   "cell_type": "markdown",
   "metadata": {},
   "source": [
    "And now for the AUC calculations"
   ]
  },
  {
   "cell_type": "code",
   "execution_count": 70,
   "metadata": {},
   "outputs": [
    {
     "name": "stdout",
     "output_type": "stream",
     "text": [
      "RandomForestClassifier\n",
      "AUC: 0.686108918675422\n",
      "\n",
      "XGBClassifier\n",
      "AUC: 0.7401979004624\n",
      "\n",
      "MLPClassifier\n",
      "AUC: 0.6409419392042683\n",
      "\n",
      "LogisticRegression\n",
      "AUC: 0.7306472299594807\n",
      "\n",
      "DecisionTreeClassifier\n",
      "AUC: 0.6200962734201844\n",
      "\n",
      "GaussianNB\n",
      "AUC: 0.6317474757672122\n",
      "\n",
      "KNeighborsClassifier\n",
      "AUC: 0.526563907715793\n",
      "\n"
     ]
    }
   ],
   "source": [
    "for pred in preds:\n",
    "    print(pred[0], end = '\\n')\n",
    "    print('AUC: ' + str(metrics.roc_auc_score(y_test, pred[-1])), end = '\\n\\n')"
   ]
  },
  {
   "cell_type": "code",
   "execution_count": 71,
   "metadata": {},
   "outputs": [
    {
     "data": {
      "image/png": "[encoded data removed]",
      "text/plain": [
       "<Figure size 864x432 with 1 Axes>"
      ]
     },
     "metadata": {},
     "output_type": "display_data"
    }
   ],
   "source": [
    "# Now let's plot the ROC curve to visualize the AUC values\n",
    "result_table = pd.DataFrame(columns=['classifier', 'fpr','tpr','auc'])\n",
    "\n",
    "plt.figure(figsize = (12,6))\n",
    "for pred in preds:\n",
    "    fpr, tpr, _ = metrics.roc_curve(y_test,  pred[-1])\n",
    "    auc = metrics.roc_auc_score(y_test, pred[-1])\n",
    "    result_table = result_table.append({'classifier':pred[0], \n",
    "                                        'fpr':fpr,\n",
    "                                        'tpr':tpr,\n",
    "                                        'auc':auc}, ignore_index = True)\n",
    "result_table.set_index('classifier', inplace=True)\n",
    "\n",
    "for i in result_table.index:\n",
    "    sns.lineplot(result_table.loc[i]['fpr'], \n",
    "             result_table.loc[i]['tpr'], \n",
    "             label=\"{}, AUC={:.3f}\".format(i, result_table.loc[i]['auc']))\n",
    "\n",
    "plt.legend()\n",
    "plt.plot([0,1], [0,1], color='orange', linestyle='--')\n",
    "plt.title('Classifier ROC Curves')\n",
    "plt.ylabel('TPR')\n",
    "plt.xlabel('FPR')\n",
    "sns.despine()\n",
    "plt.show()"
   ]
  },
  {
   "cell_type": "markdown",
   "metadata": {},
   "source": [
    "So even though the Random Forest model had the highest prediction accuracy, the Gradient Boosting Machine and Logistic Regression models have higher AUC values, meaning that Logistic Regression could potentially be considered along with our RF and XGB models when making predictions.\n",
    "\n",
    "\n",
    "Now let's look at what features stand out as more important across these 'top 3' different classifiers"
   ]
  },
  {
   "cell_type": "code",
   "execution_count": 72,
   "metadata": {},
   "outputs": [
    {
     "data": {
      "image/png": "[encoded data removed]",
      "text/plain": [
       "<Figure size 864x360 with 1 Axes>"
      ]
     },
     "metadata": {},
     "output_type": "display_data"
    }
   ],
   "source": [
    "# random forest feature importances\n",
    "importances = preds[preds[0]=='RandomForest'][1].feature_importances_\n",
    "a = pd.DataFrame(importances, \n",
    "             index = X.columns)\n",
    "a = a.sort_values([0], ascending = False).head(15)\n",
    "plt.figure(figsize = (12,5))\n",
    "sns.barplot(a.index, a[0], orient = 'v', color = 'navy')\n",
    "sns.despine()\n",
    "plt.ylabel('Importance', fontsize = 12)\n",
    "plt.title('Random Forest Feature Importance', fontsize = 16)\n",
    "plt.xticks(rotation = 40, horizontalalignment = 'right')\n",
    "plt.show()"
   ]
  },
  {
   "cell_type": "markdown",
   "metadata": {},
   "source": [
    "So in our best performing model, the Random Forest, the most 'important' factors for predictions are the number of yards remaining for a first down, as well as many of the measures related to the location and movement of the player when the ball is handed to them, as well as the time and location of the play. This seems to make sense, so lets check the other models "
   ]
  },
  {
   "cell_type": "code",
   "execution_count": 73,
   "metadata": {
    "scrolled": false
   },
   "outputs": [
    {
     "data": {
      "image/png": "[encoded data removed]",
      "text/plain": [
       "<Figure size 864x360 with 1 Axes>"
      ]
     },
     "metadata": {},
     "output_type": "display_data"
    }
   ],
   "source": [
    "# feature importances for XGBoost\n",
    "importances = pd.DataFrame(preds[1][1].get_booster().get_score(importance_type = 'gain').items())\n",
    "importances.iloc[:,0] = importances.iloc[:,0].apply(lambda x: int(x.replace('f', ' ')))    \n",
    "importances.iloc[:,0] = importances.iloc[:,0].apply(lambda i: X.columns[i])\n",
    "a = importances.sort_values([1], ascending = False).head(15)\n",
    "plt.figure(figsize = (12,5))\n",
    "sns.barplot(a[0], a[1], orient = 'v', color = 'navy')\n",
    "sns.despine()\n",
    "plt.ylabel('Importance (gain)', fontsize = 12)\n",
    "plt.xlabel('')\n",
    "plt.title('XGBoost Feature Importance', fontsize = 16)\n",
    "plt.xticks(rotation = 40, horizontalalignment = 'right')\n",
    "plt.show()"
   ]
  },
  {
   "cell_type": "markdown",
   "metadata": {},
   "source": [
    "So distance is again the most important feature, but interestingly the specific season that the game was played in is also important. Depending on how the classifier split the data on this variable, it could mean that there is a significant difference year-over-year in terms of running success (which is what we would imagine if the sport is developing a greater focus on passing as the years progress). Let's see if we can find out the sign of each feature using the logistic regression model"
   ]
  },
  {
   "cell_type": "code",
   "execution_count": 74,
   "metadata": {},
   "outputs": [
    {
     "data": {
      "image/png": "[encoded data removed]",
      "text/plain": [
       "<Figure size 864x432 with 1 Axes>"
      ]
     },
     "metadata": {},
     "output_type": "display_data"
    }
   ],
   "source": [
    "# logistic regression coefficients\n",
    "a = pd.DataFrame(preds[3][1].coef_.T, index = X.columns, columns = ['coef'])\n",
    "a = a.iloc[a.coef.abs().argsort()][::-1] # sort based on magnitude\n",
    "a['sign'] = np.where(a.coef < 0, 'negative_coef', 'positive_coef')\n",
    "a['coef'] = a.coef.apply(abs)\n",
    "a = a.head(15)\n",
    "a['color'] = np.where(a.sign == 'negative_coef', 'red', 'navy')\n",
    "\n",
    "plt.figure(figsize = (12,6))\n",
    "plt.bar(a.index, a.coef, color = a.color)\n",
    "plt.xticks(rotation = 40, horizontalalignment = 'right')\n",
    "plt.legend(a.sign)\n",
    "plt.title('Logistic Regression Feature Coefficients', fontsize = 16)\n",
    "plt.ylabel('Coefficient', fontsize = 12)\n",
    "plt.show()"
   ]
  },
  {
   "cell_type": "markdown",
   "metadata": {},
   "source": [
    "So distance is inversly related to the likelihood of gaining a first down, which makes sense (whew!) since the farther you have to go for a first down (larger value) the less likely you would be to gain a first down (smaller value), hense the inverse relationship. \n",
    "\n",
    "Additionally, it is interesting that the DB value is positive and the fourth-most influencing feature (by coefficient size). Since DBs tend to play further away from the line of scrimmage, it makes sense that a higher number of DBs on defense would lead to a higher likelihood of a first down, as there are fewer defenders near the ball.\n",
    "\n",
    "The fact that the Down_3 coefficient is positive is a good sign as well. As the team has already had two tries to advance the ball, it is likely that on the third try they would already be closer to achieving the first down. \n",
    "\n",
    "Doing a sanity-check on these variables seems to indicate that our model (appears to somewhat) logically makes sense."
   ]
  },
  {
   "cell_type": "markdown",
   "metadata": {},
   "source": [
    "### Conclusion"
   ]
  },
  {
   "cell_type": "markdown",
   "metadata": {},
   "source": [
    "In conclusion, we were able to build a model Random Forest modelthat could correctly predict whether or not a team would gain a first down __~82.5%__ of the time, which is higher than the majority class value (~78.85%). Additionally, our Gradient Boosting classifier also outperformed the unbalanced majority class label (albeit by a much slimmer margin).\n",
    "\n",
    "The fact that some classifiers were performing so much better during the model training than when predictions on testing data likely means that our models were overfitting - and could due with some additional hyperparameter tuning. However, we appear to have validated the idea that when it comes to classification, the Random Forest and XGBoost classifiers are currently the head of the pack.\n",
    "\n",
    "These models could due to be improved, potentially by additional feature engineering or potentially by incorporating more data about the other players on the field. However, for the time being we seem to have a few well-performing models. So go cheer on your favorite team knowing that running is not a forgotten part of the game."
   ]
  },
  {
   "cell_type": "code",
   "execution_count": null,
   "metadata": {},
   "outputs": [],
   "source": []
  }
 ],
 "metadata": {
  "kernelspec": {
   "display_name": "Python 3",
   "language": "python",
   "name": "python3"
  },
  "language_info": {
   "codemirror_mode": {
    "name": "ipython",
    "version": 3
   },
   "file_extension": ".py",
   "mimetype": "text/x-python",
   "name": "python",
   "nbconvert_exporter": "python",
   "pygments_lexer": "ipython3",
   "version": "3.7.3"
  }
 },
 "nbformat": 4,
 "nbformat_minor": 2
}
